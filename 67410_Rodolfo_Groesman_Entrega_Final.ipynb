{
  "nbformat": 4,
  "nbformat_minor": 0,
  "metadata": {
    "colab": {
      "provenance": [],
      "authorship_tag": "ABX9TyOGWRPIOEsUKlW0obGLz3Gu",
      "include_colab_link": true
    },
    "kernelspec": {
      "name": "python3",
      "display_name": "Python 3"
    },
    "language_info": {
      "name": "python"
    }
  },
  "cells": [
    {
      "cell_type": "markdown",
      "metadata": {
        "id": "view-in-github",
        "colab_type": "text"
      },
      "source": [
        "<a href=\"https://colab.research.google.com/github/rgroesman/67410_data_science_ii/blob/main/67410_Rodolfo_Groesman_Entrega_Final.ipynb\" target=\"_parent\"><img src=\"https://colab.research.google.com/assets/colab-badge.svg\" alt=\"Open In Colab\"/></a>"
      ]
    },
    {
      "cell_type": "markdown",
      "source": [
        "# PROYECTO FINAL\n",
        "#### Primera entrega - 10/06/2025\n",
        "**Autor**: Rodolfo Groesman  \n",
        "**Fecha de actualización**: 13/08/2025\n",
        "\n",
        "## 1. Introducción\n",
        "Desde hace más de 25 años, la Secretaría de Salud de México ha trabajado en generar datos confiables sobre la salud de la población, sus tendencias y la percepción de los servicios de salud. En este proyecto, usamos datos de la **Encuesta Nacional de Salud y Nutrición (ENSANUT) 2022** para analizar factores relacionados con el riesgo de hipertensión arterial.\n",
        "\n",
        "## 2. Descripción Temática de los Datos\n",
        "El dataset contiene información biométrica de pacientes en México, incluyendo variables como sexo, edad, concentración de hemoglobina, colesterol (HDL, LDL, total), glucosa, peso, estatura, medida de cintura, entre otros. La variable objetivo, `riesgo_hipertension`, indica si un paciente está en riesgo de hipertensión (\"yes\" o \"no\"). Este análisis busca identificar patrones relacionados con el riesgo de hipertensión, especialmente por rangos de edad.\n",
        "\n",
        "## 3. Alcance\n",
        "Analizar los datos mediante visualizaciones y estadísticas para validar la hipótesis, modelar el problema como uno de Machine Learning, entrenar modelos, realizar ingeniería de atributos, normalizar variables y seleccionar el modelo con mejor desempeño.\n",
        "\n",
        "## 4. Hipótesis\n",
        "**El objetivo principal es la segmentación de pacientes analizados según su hipertensión arterial por edad dentro del territorio mexicano. En base a su clasificación según el \"riesgo_hipertension\" calculado, definir rangos de edad, y sobre ellos trabajar, podrá observarse que, dentro del rango de edad en donde la productividad de un ser humano dentro del ámbito laboral es mayor, mayor es el riesgo de poseer hipertensión arterial. Por lo tanto, se espera que el riesgo sea mayor en el rango de edad productiva (21-60 años, en pares de 21-40 y 41-60 es otra posibilidad), donde la actividad laboral es más intensa.**\n",
        "\n",
        "## 5. Contexto Analítico\n",
        "Este proyecto extiende el análisis exploratorio inicial (EDA) para modelar el riesgo de hipertensión como un problema de **clasificación supervisada**. Entrenaremos tres modelos simples, realizaremos ingeniería de atributos y normalización, y seleccionaremos el mejor modelo basado en métricas fáciles de entender.\n",
        "\n",
        "## 6. Carga de Librerías y Datos\n",
        "Cargamos las librerías necesarias y el dataset desde la URL proporcionada. Eliminamos la columna `FOLIO_I` por no ser relevante.\n"
      ],
      "metadata": {
        "id": "06M2EwV_OCcy"
      }
    },
    {
      "cell_type": "code",
      "source": [
        "import pandas as pd\n",
        "import numpy as np\n",
        "import matplotlib.pyplot as plt\n",
        "import seaborn as sns\n",
        "from sklearn.model_selection import train_test_split\n",
        "from sklearn.preprocessing import StandardScaler, LabelEncoder\n",
        "from sklearn.linear_model import LogisticRegression\n",
        "from sklearn.tree import DecisionTreeClassifier\n",
        "from sklearn.neighbors import KNeighborsClassifier\n",
        "from sklearn.metrics import accuracy_score, f1_score, classification_report, confusion_matrix\n",
        "%matplotlib inline\n",
        "sns.set(style=\"whitegrid\", palette=\"deep\")"
      ],
      "metadata": {
        "id": "xcbibGlERGOo"
      },
      "execution_count": 1,
      "outputs": []
    },
    {
      "cell_type": "markdown",
      "source": [
        "# Cargar el dataset y más\n",
        "#### Pasos:\n",
        "##### 1 - Tomar archivo CSV base \"Hipertensión Arterial Mexico\" desde un raw en GitHub de mi repositorio público.\n",
        "##### 2 - Cargar el archivo CSV en un DataFrame (de Panda)\n",
        "##### 3 - Eliminar una columna por que no tiene utilidad"
      ],
      "metadata": {
        "id": "eY6r9xjGosDG"
      }
    },
    {
      "cell_type": "code",
      "source": [
        "url = \"https://raw.githubusercontent.com/rgroesman/67410_data_science_ii/refs/heads/main/Hipertension_Arterial_Mexico_RAW_FILE_1.csv\"\n",
        "data_base = pd.read_csv(url, sep=';')\n",
        "data = data_base.drop('FOLIO_I', axis=1)\n",
        "print(\"Primeras filas del dataset:\")\n",
        "data.head()"
      ],
      "metadata": {
        "colab": {
          "base_uri": "https://localhost:8080/",
          "height": 273
        },
        "id": "nIRmxZpho4iM",
        "outputId": "6cef9fed-b68c-4270-9f09-d45c3e8ccee4"
      },
      "execution_count": 3,
      "outputs": [
        {
          "output_type": "stream",
          "name": "stdout",
          "text": [
            "Primeras filas del dataset:\n"
          ]
        },
        {
          "output_type": "execute_result",
          "data": {
            "text/plain": [
              "  sexo  edad  concentracion_hemoglobina  temperatura_ambiente  \\\n",
              "0    f    41                       14.2                    22   \n",
              "1    f    65                       14.1                     9   \n",
              "2    f    68                       14.2                    22   \n",
              "3    m    35                       15.7                    11   \n",
              "4    f    65                       12.7                     7   \n",
              "\n",
              "   valor_acido_urico  valor_albumina  valor_colesterol_hdl  \\\n",
              "0                4.8             4.0                    34   \n",
              "1                4.4             3.8                    73   \n",
              "2                4.8             4.0                    34   \n",
              "3                6.5             4.1                    49   \n",
              "4                4.2             4.2                    41   \n",
              "\n",
              "   valor_colesterol_ldl  valor_colesterol_total  valor_creatina  ...  \\\n",
              "0                  86.0                     139            0.58  ...   \n",
              "1                 130.0                     252            0.62  ...   \n",
              "2                  86.0                     139            0.58  ...   \n",
              "3                 107.0                     203            0.91  ...   \n",
              "4                  76.0                     145            0.71  ...   \n",
              "\n",
              "   segundamedicion_peso  segundamedicion_estatura  distancia_rodilla_talon  \\\n",
              "0                 64.70                     154.0                     48.5   \n",
              "1                 96.75                     152.2                     44.5   \n",
              "2                 68.70                     144.8                     42.3   \n",
              "3                 64.70                     154.0                     48.5   \n",
              "4                 97.15                     161.3                     49.6   \n",
              "\n",
              "   circunferencia_de_la_pantorrilla  segundamedicion_cintura  \\\n",
              "0                              33.5                      0.0   \n",
              "1                              41.1                    113.7   \n",
              "2                              37.8                    103.7   \n",
              "3                              33.5                      0.0   \n",
              "4                              42.0                    118.9   \n",
              "\n",
              "   tension_arterial  sueno_horas  actividad_total  riesgo_hipertension  \\\n",
              "0               107            4              120                  yes   \n",
              "1               104            2              240                   no   \n",
              "2               105            1              480                   no   \n",
              "3               117            5              275                  yes   \n",
              "4               123            2              255                   no   \n",
              "\n",
              "   rango_edad  \n",
              "0       41_60  \n",
              "1       61_80  \n",
              "2       61_80  \n",
              "3       21_40  \n",
              "4       61_80  \n",
              "\n",
              "[5 rows x 35 columns]"
            ],
            "text/html": [
              "\n",
              "  <div id=\"df-2a8df00b-0ba9-4f98-b966-024389d89778\" class=\"colab-df-container\">\n",
              "    <div>\n",
              "<style scoped>\n",
              "    .dataframe tbody tr th:only-of-type {\n",
              "        vertical-align: middle;\n",
              "    }\n",
              "\n",
              "    .dataframe tbody tr th {\n",
              "        vertical-align: top;\n",
              "    }\n",
              "\n",
              "    .dataframe thead th {\n",
              "        text-align: right;\n",
              "    }\n",
              "</style>\n",
              "<table border=\"1\" class=\"dataframe\">\n",
              "  <thead>\n",
              "    <tr style=\"text-align: right;\">\n",
              "      <th></th>\n",
              "      <th>sexo</th>\n",
              "      <th>edad</th>\n",
              "      <th>concentracion_hemoglobina</th>\n",
              "      <th>temperatura_ambiente</th>\n",
              "      <th>valor_acido_urico</th>\n",
              "      <th>valor_albumina</th>\n",
              "      <th>valor_colesterol_hdl</th>\n",
              "      <th>valor_colesterol_ldl</th>\n",
              "      <th>valor_colesterol_total</th>\n",
              "      <th>valor_creatina</th>\n",
              "      <th>...</th>\n",
              "      <th>segundamedicion_peso</th>\n",
              "      <th>segundamedicion_estatura</th>\n",
              "      <th>distancia_rodilla_talon</th>\n",
              "      <th>circunferencia_de_la_pantorrilla</th>\n",
              "      <th>segundamedicion_cintura</th>\n",
              "      <th>tension_arterial</th>\n",
              "      <th>sueno_horas</th>\n",
              "      <th>actividad_total</th>\n",
              "      <th>riesgo_hipertension</th>\n",
              "      <th>rango_edad</th>\n",
              "    </tr>\n",
              "  </thead>\n",
              "  <tbody>\n",
              "    <tr>\n",
              "      <th>0</th>\n",
              "      <td>f</td>\n",
              "      <td>41</td>\n",
              "      <td>14.2</td>\n",
              "      <td>22</td>\n",
              "      <td>4.8</td>\n",
              "      <td>4.0</td>\n",
              "      <td>34</td>\n",
              "      <td>86.0</td>\n",
              "      <td>139</td>\n",
              "      <td>0.58</td>\n",
              "      <td>...</td>\n",
              "      <td>64.70</td>\n",
              "      <td>154.0</td>\n",
              "      <td>48.5</td>\n",
              "      <td>33.5</td>\n",
              "      <td>0.0</td>\n",
              "      <td>107</td>\n",
              "      <td>4</td>\n",
              "      <td>120</td>\n",
              "      <td>yes</td>\n",
              "      <td>41_60</td>\n",
              "    </tr>\n",
              "    <tr>\n",
              "      <th>1</th>\n",
              "      <td>f</td>\n",
              "      <td>65</td>\n",
              "      <td>14.1</td>\n",
              "      <td>9</td>\n",
              "      <td>4.4</td>\n",
              "      <td>3.8</td>\n",
              "      <td>73</td>\n",
              "      <td>130.0</td>\n",
              "      <td>252</td>\n",
              "      <td>0.62</td>\n",
              "      <td>...</td>\n",
              "      <td>96.75</td>\n",
              "      <td>152.2</td>\n",
              "      <td>44.5</td>\n",
              "      <td>41.1</td>\n",
              "      <td>113.7</td>\n",
              "      <td>104</td>\n",
              "      <td>2</td>\n",
              "      <td>240</td>\n",
              "      <td>no</td>\n",
              "      <td>61_80</td>\n",
              "    </tr>\n",
              "    <tr>\n",
              "      <th>2</th>\n",
              "      <td>f</td>\n",
              "      <td>68</td>\n",
              "      <td>14.2</td>\n",
              "      <td>22</td>\n",
              "      <td>4.8</td>\n",
              "      <td>4.0</td>\n",
              "      <td>34</td>\n",
              "      <td>86.0</td>\n",
              "      <td>139</td>\n",
              "      <td>0.58</td>\n",
              "      <td>...</td>\n",
              "      <td>68.70</td>\n",
              "      <td>144.8</td>\n",
              "      <td>42.3</td>\n",
              "      <td>37.8</td>\n",
              "      <td>103.7</td>\n",
              "      <td>105</td>\n",
              "      <td>1</td>\n",
              "      <td>480</td>\n",
              "      <td>no</td>\n",
              "      <td>61_80</td>\n",
              "    </tr>\n",
              "    <tr>\n",
              "      <th>3</th>\n",
              "      <td>m</td>\n",
              "      <td>35</td>\n",
              "      <td>15.7</td>\n",
              "      <td>11</td>\n",
              "      <td>6.5</td>\n",
              "      <td>4.1</td>\n",
              "      <td>49</td>\n",
              "      <td>107.0</td>\n",
              "      <td>203</td>\n",
              "      <td>0.91</td>\n",
              "      <td>...</td>\n",
              "      <td>64.70</td>\n",
              "      <td>154.0</td>\n",
              "      <td>48.5</td>\n",
              "      <td>33.5</td>\n",
              "      <td>0.0</td>\n",
              "      <td>117</td>\n",
              "      <td>5</td>\n",
              "      <td>275</td>\n",
              "      <td>yes</td>\n",
              "      <td>21_40</td>\n",
              "    </tr>\n",
              "    <tr>\n",
              "      <th>4</th>\n",
              "      <td>f</td>\n",
              "      <td>65</td>\n",
              "      <td>12.7</td>\n",
              "      <td>7</td>\n",
              "      <td>4.2</td>\n",
              "      <td>4.2</td>\n",
              "      <td>41</td>\n",
              "      <td>76.0</td>\n",
              "      <td>145</td>\n",
              "      <td>0.71</td>\n",
              "      <td>...</td>\n",
              "      <td>97.15</td>\n",
              "      <td>161.3</td>\n",
              "      <td>49.6</td>\n",
              "      <td>42.0</td>\n",
              "      <td>118.9</td>\n",
              "      <td>123</td>\n",
              "      <td>2</td>\n",
              "      <td>255</td>\n",
              "      <td>no</td>\n",
              "      <td>61_80</td>\n",
              "    </tr>\n",
              "  </tbody>\n",
              "</table>\n",
              "<p>5 rows × 35 columns</p>\n",
              "</div>\n",
              "    <div class=\"colab-df-buttons\">\n",
              "\n",
              "  <div class=\"colab-df-container\">\n",
              "    <button class=\"colab-df-convert\" onclick=\"convertToInteractive('df-2a8df00b-0ba9-4f98-b966-024389d89778')\"\n",
              "            title=\"Convert this dataframe to an interactive table.\"\n",
              "            style=\"display:none;\">\n",
              "\n",
              "  <svg xmlns=\"http://www.w3.org/2000/svg\" height=\"24px\" viewBox=\"0 -960 960 960\">\n",
              "    <path d=\"M120-120v-720h720v720H120Zm60-500h600v-160H180v160Zm220 220h160v-160H400v160Zm0 220h160v-160H400v160ZM180-400h160v-160H180v160Zm440 0h160v-160H620v160ZM180-180h160v-160H180v160Zm440 0h160v-160H620v160Z\"/>\n",
              "  </svg>\n",
              "    </button>\n",
              "\n",
              "  <style>\n",
              "    .colab-df-container {\n",
              "      display:flex;\n",
              "      gap: 12px;\n",
              "    }\n",
              "\n",
              "    .colab-df-convert {\n",
              "      background-color: #E8F0FE;\n",
              "      border: none;\n",
              "      border-radius: 50%;\n",
              "      cursor: pointer;\n",
              "      display: none;\n",
              "      fill: #1967D2;\n",
              "      height: 32px;\n",
              "      padding: 0 0 0 0;\n",
              "      width: 32px;\n",
              "    }\n",
              "\n",
              "    .colab-df-convert:hover {\n",
              "      background-color: #E2EBFA;\n",
              "      box-shadow: 0px 1px 2px rgba(60, 64, 67, 0.3), 0px 1px 3px 1px rgba(60, 64, 67, 0.15);\n",
              "      fill: #174EA6;\n",
              "    }\n",
              "\n",
              "    .colab-df-buttons div {\n",
              "      margin-bottom: 4px;\n",
              "    }\n",
              "\n",
              "    [theme=dark] .colab-df-convert {\n",
              "      background-color: #3B4455;\n",
              "      fill: #D2E3FC;\n",
              "    }\n",
              "\n",
              "    [theme=dark] .colab-df-convert:hover {\n",
              "      background-color: #434B5C;\n",
              "      box-shadow: 0px 1px 3px 1px rgba(0, 0, 0, 0.15);\n",
              "      filter: drop-shadow(0px 1px 2px rgba(0, 0, 0, 0.3));\n",
              "      fill: #FFFFFF;\n",
              "    }\n",
              "  </style>\n",
              "\n",
              "    <script>\n",
              "      const buttonEl =\n",
              "        document.querySelector('#df-2a8df00b-0ba9-4f98-b966-024389d89778 button.colab-df-convert');\n",
              "      buttonEl.style.display =\n",
              "        google.colab.kernel.accessAllowed ? 'block' : 'none';\n",
              "\n",
              "      async function convertToInteractive(key) {\n",
              "        const element = document.querySelector('#df-2a8df00b-0ba9-4f98-b966-024389d89778');\n",
              "        const dataTable =\n",
              "          await google.colab.kernel.invokeFunction('convertToInteractive',\n",
              "                                                    [key], {});\n",
              "        if (!dataTable) return;\n",
              "\n",
              "        const docLinkHtml = 'Like what you see? Visit the ' +\n",
              "          '<a target=\"_blank\" href=https://colab.research.google.com/notebooks/data_table.ipynb>data table notebook</a>'\n",
              "          + ' to learn more about interactive tables.';\n",
              "        element.innerHTML = '';\n",
              "        dataTable['output_type'] = 'display_data';\n",
              "        await google.colab.output.renderOutput(dataTable, element);\n",
              "        const docLink = document.createElement('div');\n",
              "        docLink.innerHTML = docLinkHtml;\n",
              "        element.appendChild(docLink);\n",
              "      }\n",
              "    </script>\n",
              "  </div>\n",
              "\n",
              "\n",
              "    <div id=\"df-149b6c3e-ea7b-4c63-abf1-4fb9bc14ba28\">\n",
              "      <button class=\"colab-df-quickchart\" onclick=\"quickchart('df-149b6c3e-ea7b-4c63-abf1-4fb9bc14ba28')\"\n",
              "                title=\"Suggest charts\"\n",
              "                style=\"display:none;\">\n",
              "\n",
              "<svg xmlns=\"http://www.w3.org/2000/svg\" height=\"24px\"viewBox=\"0 0 24 24\"\n",
              "     width=\"24px\">\n",
              "    <g>\n",
              "        <path d=\"M19 3H5c-1.1 0-2 .9-2 2v14c0 1.1.9 2 2 2h14c1.1 0 2-.9 2-2V5c0-1.1-.9-2-2-2zM9 17H7v-7h2v7zm4 0h-2V7h2v10zm4 0h-2v-4h2v4z\"/>\n",
              "    </g>\n",
              "</svg>\n",
              "      </button>\n",
              "\n",
              "<style>\n",
              "  .colab-df-quickchart {\n",
              "      --bg-color: #E8F0FE;\n",
              "      --fill-color: #1967D2;\n",
              "      --hover-bg-color: #E2EBFA;\n",
              "      --hover-fill-color: #174EA6;\n",
              "      --disabled-fill-color: #AAA;\n",
              "      --disabled-bg-color: #DDD;\n",
              "  }\n",
              "\n",
              "  [theme=dark] .colab-df-quickchart {\n",
              "      --bg-color: #3B4455;\n",
              "      --fill-color: #D2E3FC;\n",
              "      --hover-bg-color: #434B5C;\n",
              "      --hover-fill-color: #FFFFFF;\n",
              "      --disabled-bg-color: #3B4455;\n",
              "      --disabled-fill-color: #666;\n",
              "  }\n",
              "\n",
              "  .colab-df-quickchart {\n",
              "    background-color: var(--bg-color);\n",
              "    border: none;\n",
              "    border-radius: 50%;\n",
              "    cursor: pointer;\n",
              "    display: none;\n",
              "    fill: var(--fill-color);\n",
              "    height: 32px;\n",
              "    padding: 0;\n",
              "    width: 32px;\n",
              "  }\n",
              "\n",
              "  .colab-df-quickchart:hover {\n",
              "    background-color: var(--hover-bg-color);\n",
              "    box-shadow: 0 1px 2px rgba(60, 64, 67, 0.3), 0 1px 3px 1px rgba(60, 64, 67, 0.15);\n",
              "    fill: var(--button-hover-fill-color);\n",
              "  }\n",
              "\n",
              "  .colab-df-quickchart-complete:disabled,\n",
              "  .colab-df-quickchart-complete:disabled:hover {\n",
              "    background-color: var(--disabled-bg-color);\n",
              "    fill: var(--disabled-fill-color);\n",
              "    box-shadow: none;\n",
              "  }\n",
              "\n",
              "  .colab-df-spinner {\n",
              "    border: 2px solid var(--fill-color);\n",
              "    border-color: transparent;\n",
              "    border-bottom-color: var(--fill-color);\n",
              "    animation:\n",
              "      spin 1s steps(1) infinite;\n",
              "  }\n",
              "\n",
              "  @keyframes spin {\n",
              "    0% {\n",
              "      border-color: transparent;\n",
              "      border-bottom-color: var(--fill-color);\n",
              "      border-left-color: var(--fill-color);\n",
              "    }\n",
              "    20% {\n",
              "      border-color: transparent;\n",
              "      border-left-color: var(--fill-color);\n",
              "      border-top-color: var(--fill-color);\n",
              "    }\n",
              "    30% {\n",
              "      border-color: transparent;\n",
              "      border-left-color: var(--fill-color);\n",
              "      border-top-color: var(--fill-color);\n",
              "      border-right-color: var(--fill-color);\n",
              "    }\n",
              "    40% {\n",
              "      border-color: transparent;\n",
              "      border-right-color: var(--fill-color);\n",
              "      border-top-color: var(--fill-color);\n",
              "    }\n",
              "    60% {\n",
              "      border-color: transparent;\n",
              "      border-right-color: var(--fill-color);\n",
              "    }\n",
              "    80% {\n",
              "      border-color: transparent;\n",
              "      border-right-color: var(--fill-color);\n",
              "      border-bottom-color: var(--fill-color);\n",
              "    }\n",
              "    90% {\n",
              "      border-color: transparent;\n",
              "      border-bottom-color: var(--fill-color);\n",
              "    }\n",
              "  }\n",
              "</style>\n",
              "\n",
              "      <script>\n",
              "        async function quickchart(key) {\n",
              "          const quickchartButtonEl =\n",
              "            document.querySelector('#' + key + ' button');\n",
              "          quickchartButtonEl.disabled = true;  // To prevent multiple clicks.\n",
              "          quickchartButtonEl.classList.add('colab-df-spinner');\n",
              "          try {\n",
              "            const charts = await google.colab.kernel.invokeFunction(\n",
              "                'suggestCharts', [key], {});\n",
              "          } catch (error) {\n",
              "            console.error('Error during call to suggestCharts:', error);\n",
              "          }\n",
              "          quickchartButtonEl.classList.remove('colab-df-spinner');\n",
              "          quickchartButtonEl.classList.add('colab-df-quickchart-complete');\n",
              "        }\n",
              "        (() => {\n",
              "          let quickchartButtonEl =\n",
              "            document.querySelector('#df-149b6c3e-ea7b-4c63-abf1-4fb9bc14ba28 button');\n",
              "          quickchartButtonEl.style.display =\n",
              "            google.colab.kernel.accessAllowed ? 'block' : 'none';\n",
              "        })();\n",
              "      </script>\n",
              "    </div>\n",
              "\n",
              "    </div>\n",
              "  </div>\n"
            ],
            "application/vnd.google.colaboratory.intrinsic+json": {
              "type": "dataframe",
              "variable_name": "data"
            }
          },
          "metadata": {},
          "execution_count": 3
        }
      ]
    },
    {
      "cell_type": "markdown",
      "source": [
        "## 7. Exploración de Datos (EDA) - Continuación\n",
        "Verificamos la estructura del dataset, valores únicos y datos faltantes, como en el TP original."
      ],
      "metadata": {
        "id": "MMf530jmpCmv"
      }
    },
    {
      "cell_type": "markdown",
      "source": [
        "# Primera visualización de los datos"
      ],
      "metadata": {
        "id": "S-976251xEF_"
      }
    },
    {
      "cell_type": "code",
      "source": [
        "# Mostrar la data por consola\n",
        "print(\"Data por consola:\")\n",
        "print(data)"
      ],
      "metadata": {
        "colab": {
          "base_uri": "https://localhost:8080/"
        },
        "id": "7oZIY-7zxKRh",
        "outputId": "c44e0738-774b-4254-c437-a79a648fb9a0"
      },
      "execution_count": 16,
      "outputs": [
        {
          "output_type": "stream",
          "name": "stdout",
          "text": [
            "Data por consola:\n",
            "     sexo  edad  concentracion_hemoglobina  temperatura_ambiente  \\\n",
            "0       f    41                       14.2                    22   \n",
            "1       f    65                       14.1                     9   \n",
            "2       f    68                       14.2                    22   \n",
            "3       m    35                       15.7                    11   \n",
            "4       f    65                       12.7                     7   \n",
            "...   ...   ...                        ...                   ...   \n",
            "4358    f    62                       14.2                    22   \n",
            "4359    m    39                       14.2                    22   \n",
            "4360    f    69                       15.9                    11   \n",
            "4361    m    67                       17.6                    14   \n",
            "4362    f    56                       14.2                    22   \n",
            "\n",
            "      valor_acido_urico  valor_albumina  valor_colesterol_hdl  \\\n",
            "0                   4.8             4.0                    34   \n",
            "1                   4.4             3.8                    73   \n",
            "2                   4.8             4.0                    34   \n",
            "3                   6.5             4.1                    49   \n",
            "4                   4.2             4.2                    41   \n",
            "...                 ...             ...                   ...   \n",
            "4358                4.8             4.0                    34   \n",
            "4359                4.8             4.0                    34   \n",
            "4360                2.9             1.9                    21   \n",
            "4361                5.5             4.0                    44   \n",
            "4362                4.8             4.0                    34   \n",
            "\n",
            "      valor_colesterol_ldl  valor_colesterol_total  valor_creatina  ...  \\\n",
            "0                     86.0                     139            0.58  ...   \n",
            "1                    130.0                     252            0.62  ...   \n",
            "2                     86.0                     139            0.58  ...   \n",
            "3                    107.0                     203            0.91  ...   \n",
            "4                     76.0                     145            0.71  ...   \n",
            "...                    ...                     ...             ...  ...   \n",
            "4358                  86.0                     139            0.58  ...   \n",
            "4359                  86.0                     139            0.58  ...   \n",
            "4360                  44.0                      74            0.34  ...   \n",
            "4361                  96.0                     171            0.80  ...   \n",
            "4362                  86.0                     139            0.58  ...   \n",
            "\n",
            "      segundamedicion_peso  segundamedicion_estatura  distancia_rodilla_talon  \\\n",
            "0                    64.70                     154.0                     48.5   \n",
            "1                    96.75                     152.2                     44.5   \n",
            "2                    68.70                     144.8                     42.3   \n",
            "3                    64.70                     154.0                     48.5   \n",
            "4                    97.15                     161.3                     49.6   \n",
            "...                    ...                       ...                      ...   \n",
            "4358                 64.25                     160.5                     51.1   \n",
            "4359                 64.70                     154.0                     48.5   \n",
            "4360                 71.20                     148.6                     47.2   \n",
            "4361                 68.20                     167.7                     51.5   \n",
            "4362                 64.70                     154.0                     48.5   \n",
            "\n",
            "      circunferencia_de_la_pantorrilla  segundamedicion_cintura  \\\n",
            "0                                 33.5                      0.0   \n",
            "1                                 41.1                    113.7   \n",
            "2                                 37.8                    103.7   \n",
            "3                                 33.5                      0.0   \n",
            "4                                 42.0                    118.9   \n",
            "...                                ...                      ...   \n",
            "4358                              34.5                     77.8   \n",
            "4359                              33.5                      0.0   \n",
            "4360                              38.0                      0.0   \n",
            "4361                              36.5                     96.4   \n",
            "4362                              33.5                      0.0   \n",
            "\n",
            "      tension_arterial  sueno_horas  actividad_total  riesgo_hipertension  \\\n",
            "0                  107            4              120                  yes   \n",
            "1                  104            2              240                   no   \n",
            "2                  105            1              480                   no   \n",
            "3                  117            5              275                  yes   \n",
            "4                  123            2              255                   no   \n",
            "...                ...          ...              ...                  ...   \n",
            "4358               125            4              280                   no   \n",
            "4359               130            4              780                   no   \n",
            "4360               147            4              300                   no   \n",
            "4361               108            2              240                   no   \n",
            "4362               100            4              300                   no   \n",
            "\n",
            "      rango_edad  \n",
            "0          41_60  \n",
            "1          61_80  \n",
            "2          61_80  \n",
            "3          21_40  \n",
            "4          61_80  \n",
            "...          ...  \n",
            "4358       61_80  \n",
            "4359       21_40  \n",
            "4360       61_80  \n",
            "4361       61_80  \n",
            "4362       41_60  \n",
            "\n",
            "[4363 rows x 35 columns]\n"
          ]
        }
      ]
    },
    {
      "cell_type": "code",
      "source": [
        "# Mostar primeros registros de la data\n",
        "data.head()"
      ],
      "metadata": {
        "colab": {
          "base_uri": "https://localhost:8080/",
          "height": 256
        },
        "id": "6czgDQOPxMiX",
        "outputId": "91d25b2a-d85b-4193-ce9e-60ef95d60d39"
      },
      "execution_count": 17,
      "outputs": [
        {
          "output_type": "execute_result",
          "data": {
            "text/plain": [
              "  sexo  edad  concentracion_hemoglobina  temperatura_ambiente  \\\n",
              "0    f    41                       14.2                    22   \n",
              "1    f    65                       14.1                     9   \n",
              "2    f    68                       14.2                    22   \n",
              "3    m    35                       15.7                    11   \n",
              "4    f    65                       12.7                     7   \n",
              "\n",
              "   valor_acido_urico  valor_albumina  valor_colesterol_hdl  \\\n",
              "0                4.8             4.0                    34   \n",
              "1                4.4             3.8                    73   \n",
              "2                4.8             4.0                    34   \n",
              "3                6.5             4.1                    49   \n",
              "4                4.2             4.2                    41   \n",
              "\n",
              "   valor_colesterol_ldl  valor_colesterol_total  valor_creatina  ...  \\\n",
              "0                  86.0                     139            0.58  ...   \n",
              "1                 130.0                     252            0.62  ...   \n",
              "2                  86.0                     139            0.58  ...   \n",
              "3                 107.0                     203            0.91  ...   \n",
              "4                  76.0                     145            0.71  ...   \n",
              "\n",
              "   segundamedicion_peso  segundamedicion_estatura  distancia_rodilla_talon  \\\n",
              "0                 64.70                     154.0                     48.5   \n",
              "1                 96.75                     152.2                     44.5   \n",
              "2                 68.70                     144.8                     42.3   \n",
              "3                 64.70                     154.0                     48.5   \n",
              "4                 97.15                     161.3                     49.6   \n",
              "\n",
              "   circunferencia_de_la_pantorrilla  segundamedicion_cintura  \\\n",
              "0                              33.5                      0.0   \n",
              "1                              41.1                    113.7   \n",
              "2                              37.8                    103.7   \n",
              "3                              33.5                      0.0   \n",
              "4                              42.0                    118.9   \n",
              "\n",
              "   tension_arterial  sueno_horas  actividad_total  riesgo_hipertension  \\\n",
              "0               107            4              120                  yes   \n",
              "1               104            2              240                   no   \n",
              "2               105            1              480                   no   \n",
              "3               117            5              275                  yes   \n",
              "4               123            2              255                   no   \n",
              "\n",
              "   rango_edad  \n",
              "0       41_60  \n",
              "1       61_80  \n",
              "2       61_80  \n",
              "3       21_40  \n",
              "4       61_80  \n",
              "\n",
              "[5 rows x 35 columns]"
            ],
            "text/html": [
              "\n",
              "  <div id=\"df-904cd317-6b9f-48ae-b1a4-cb011bb6f13f\" class=\"colab-df-container\">\n",
              "    <div>\n",
              "<style scoped>\n",
              "    .dataframe tbody tr th:only-of-type {\n",
              "        vertical-align: middle;\n",
              "    }\n",
              "\n",
              "    .dataframe tbody tr th {\n",
              "        vertical-align: top;\n",
              "    }\n",
              "\n",
              "    .dataframe thead th {\n",
              "        text-align: right;\n",
              "    }\n",
              "</style>\n",
              "<table border=\"1\" class=\"dataframe\">\n",
              "  <thead>\n",
              "    <tr style=\"text-align: right;\">\n",
              "      <th></th>\n",
              "      <th>sexo</th>\n",
              "      <th>edad</th>\n",
              "      <th>concentracion_hemoglobina</th>\n",
              "      <th>temperatura_ambiente</th>\n",
              "      <th>valor_acido_urico</th>\n",
              "      <th>valor_albumina</th>\n",
              "      <th>valor_colesterol_hdl</th>\n",
              "      <th>valor_colesterol_ldl</th>\n",
              "      <th>valor_colesterol_total</th>\n",
              "      <th>valor_creatina</th>\n",
              "      <th>...</th>\n",
              "      <th>segundamedicion_peso</th>\n",
              "      <th>segundamedicion_estatura</th>\n",
              "      <th>distancia_rodilla_talon</th>\n",
              "      <th>circunferencia_de_la_pantorrilla</th>\n",
              "      <th>segundamedicion_cintura</th>\n",
              "      <th>tension_arterial</th>\n",
              "      <th>sueno_horas</th>\n",
              "      <th>actividad_total</th>\n",
              "      <th>riesgo_hipertension</th>\n",
              "      <th>rango_edad</th>\n",
              "    </tr>\n",
              "  </thead>\n",
              "  <tbody>\n",
              "    <tr>\n",
              "      <th>0</th>\n",
              "      <td>f</td>\n",
              "      <td>41</td>\n",
              "      <td>14.2</td>\n",
              "      <td>22</td>\n",
              "      <td>4.8</td>\n",
              "      <td>4.0</td>\n",
              "      <td>34</td>\n",
              "      <td>86.0</td>\n",
              "      <td>139</td>\n",
              "      <td>0.58</td>\n",
              "      <td>...</td>\n",
              "      <td>64.70</td>\n",
              "      <td>154.0</td>\n",
              "      <td>48.5</td>\n",
              "      <td>33.5</td>\n",
              "      <td>0.0</td>\n",
              "      <td>107</td>\n",
              "      <td>4</td>\n",
              "      <td>120</td>\n",
              "      <td>yes</td>\n",
              "      <td>41_60</td>\n",
              "    </tr>\n",
              "    <tr>\n",
              "      <th>1</th>\n",
              "      <td>f</td>\n",
              "      <td>65</td>\n",
              "      <td>14.1</td>\n",
              "      <td>9</td>\n",
              "      <td>4.4</td>\n",
              "      <td>3.8</td>\n",
              "      <td>73</td>\n",
              "      <td>130.0</td>\n",
              "      <td>252</td>\n",
              "      <td>0.62</td>\n",
              "      <td>...</td>\n",
              "      <td>96.75</td>\n",
              "      <td>152.2</td>\n",
              "      <td>44.5</td>\n",
              "      <td>41.1</td>\n",
              "      <td>113.7</td>\n",
              "      <td>104</td>\n",
              "      <td>2</td>\n",
              "      <td>240</td>\n",
              "      <td>no</td>\n",
              "      <td>61_80</td>\n",
              "    </tr>\n",
              "    <tr>\n",
              "      <th>2</th>\n",
              "      <td>f</td>\n",
              "      <td>68</td>\n",
              "      <td>14.2</td>\n",
              "      <td>22</td>\n",
              "      <td>4.8</td>\n",
              "      <td>4.0</td>\n",
              "      <td>34</td>\n",
              "      <td>86.0</td>\n",
              "      <td>139</td>\n",
              "      <td>0.58</td>\n",
              "      <td>...</td>\n",
              "      <td>68.70</td>\n",
              "      <td>144.8</td>\n",
              "      <td>42.3</td>\n",
              "      <td>37.8</td>\n",
              "      <td>103.7</td>\n",
              "      <td>105</td>\n",
              "      <td>1</td>\n",
              "      <td>480</td>\n",
              "      <td>no</td>\n",
              "      <td>61_80</td>\n",
              "    </tr>\n",
              "    <tr>\n",
              "      <th>3</th>\n",
              "      <td>m</td>\n",
              "      <td>35</td>\n",
              "      <td>15.7</td>\n",
              "      <td>11</td>\n",
              "      <td>6.5</td>\n",
              "      <td>4.1</td>\n",
              "      <td>49</td>\n",
              "      <td>107.0</td>\n",
              "      <td>203</td>\n",
              "      <td>0.91</td>\n",
              "      <td>...</td>\n",
              "      <td>64.70</td>\n",
              "      <td>154.0</td>\n",
              "      <td>48.5</td>\n",
              "      <td>33.5</td>\n",
              "      <td>0.0</td>\n",
              "      <td>117</td>\n",
              "      <td>5</td>\n",
              "      <td>275</td>\n",
              "      <td>yes</td>\n",
              "      <td>21_40</td>\n",
              "    </tr>\n",
              "    <tr>\n",
              "      <th>4</th>\n",
              "      <td>f</td>\n",
              "      <td>65</td>\n",
              "      <td>12.7</td>\n",
              "      <td>7</td>\n",
              "      <td>4.2</td>\n",
              "      <td>4.2</td>\n",
              "      <td>41</td>\n",
              "      <td>76.0</td>\n",
              "      <td>145</td>\n",
              "      <td>0.71</td>\n",
              "      <td>...</td>\n",
              "      <td>97.15</td>\n",
              "      <td>161.3</td>\n",
              "      <td>49.6</td>\n",
              "      <td>42.0</td>\n",
              "      <td>118.9</td>\n",
              "      <td>123</td>\n",
              "      <td>2</td>\n",
              "      <td>255</td>\n",
              "      <td>no</td>\n",
              "      <td>61_80</td>\n",
              "    </tr>\n",
              "  </tbody>\n",
              "</table>\n",
              "<p>5 rows × 35 columns</p>\n",
              "</div>\n",
              "    <div class=\"colab-df-buttons\">\n",
              "\n",
              "  <div class=\"colab-df-container\">\n",
              "    <button class=\"colab-df-convert\" onclick=\"convertToInteractive('df-904cd317-6b9f-48ae-b1a4-cb011bb6f13f')\"\n",
              "            title=\"Convert this dataframe to an interactive table.\"\n",
              "            style=\"display:none;\">\n",
              "\n",
              "  <svg xmlns=\"http://www.w3.org/2000/svg\" height=\"24px\" viewBox=\"0 -960 960 960\">\n",
              "    <path d=\"M120-120v-720h720v720H120Zm60-500h600v-160H180v160Zm220 220h160v-160H400v160Zm0 220h160v-160H400v160ZM180-400h160v-160H180v160Zm440 0h160v-160H620v160ZM180-180h160v-160H180v160Zm440 0h160v-160H620v160Z\"/>\n",
              "  </svg>\n",
              "    </button>\n",
              "\n",
              "  <style>\n",
              "    .colab-df-container {\n",
              "      display:flex;\n",
              "      gap: 12px;\n",
              "    }\n",
              "\n",
              "    .colab-df-convert {\n",
              "      background-color: #E8F0FE;\n",
              "      border: none;\n",
              "      border-radius: 50%;\n",
              "      cursor: pointer;\n",
              "      display: none;\n",
              "      fill: #1967D2;\n",
              "      height: 32px;\n",
              "      padding: 0 0 0 0;\n",
              "      width: 32px;\n",
              "    }\n",
              "\n",
              "    .colab-df-convert:hover {\n",
              "      background-color: #E2EBFA;\n",
              "      box-shadow: 0px 1px 2px rgba(60, 64, 67, 0.3), 0px 1px 3px 1px rgba(60, 64, 67, 0.15);\n",
              "      fill: #174EA6;\n",
              "    }\n",
              "\n",
              "    .colab-df-buttons div {\n",
              "      margin-bottom: 4px;\n",
              "    }\n",
              "\n",
              "    [theme=dark] .colab-df-convert {\n",
              "      background-color: #3B4455;\n",
              "      fill: #D2E3FC;\n",
              "    }\n",
              "\n",
              "    [theme=dark] .colab-df-convert:hover {\n",
              "      background-color: #434B5C;\n",
              "      box-shadow: 0px 1px 3px 1px rgba(0, 0, 0, 0.15);\n",
              "      filter: drop-shadow(0px 1px 2px rgba(0, 0, 0, 0.3));\n",
              "      fill: #FFFFFF;\n",
              "    }\n",
              "  </style>\n",
              "\n",
              "    <script>\n",
              "      const buttonEl =\n",
              "        document.querySelector('#df-904cd317-6b9f-48ae-b1a4-cb011bb6f13f button.colab-df-convert');\n",
              "      buttonEl.style.display =\n",
              "        google.colab.kernel.accessAllowed ? 'block' : 'none';\n",
              "\n",
              "      async function convertToInteractive(key) {\n",
              "        const element = document.querySelector('#df-904cd317-6b9f-48ae-b1a4-cb011bb6f13f');\n",
              "        const dataTable =\n",
              "          await google.colab.kernel.invokeFunction('convertToInteractive',\n",
              "                                                    [key], {});\n",
              "        if (!dataTable) return;\n",
              "\n",
              "        const docLinkHtml = 'Like what you see? Visit the ' +\n",
              "          '<a target=\"_blank\" href=https://colab.research.google.com/notebooks/data_table.ipynb>data table notebook</a>'\n",
              "          + ' to learn more about interactive tables.';\n",
              "        element.innerHTML = '';\n",
              "        dataTable['output_type'] = 'display_data';\n",
              "        await google.colab.output.renderOutput(dataTable, element);\n",
              "        const docLink = document.createElement('div');\n",
              "        docLink.innerHTML = docLinkHtml;\n",
              "        element.appendChild(docLink);\n",
              "      }\n",
              "    </script>\n",
              "  </div>\n",
              "\n",
              "\n",
              "    <div id=\"df-6f6c2b6d-a137-4a0c-b16a-cfe1ea158978\">\n",
              "      <button class=\"colab-df-quickchart\" onclick=\"quickchart('df-6f6c2b6d-a137-4a0c-b16a-cfe1ea158978')\"\n",
              "                title=\"Suggest charts\"\n",
              "                style=\"display:none;\">\n",
              "\n",
              "<svg xmlns=\"http://www.w3.org/2000/svg\" height=\"24px\"viewBox=\"0 0 24 24\"\n",
              "     width=\"24px\">\n",
              "    <g>\n",
              "        <path d=\"M19 3H5c-1.1 0-2 .9-2 2v14c0 1.1.9 2 2 2h14c1.1 0 2-.9 2-2V5c0-1.1-.9-2-2-2zM9 17H7v-7h2v7zm4 0h-2V7h2v10zm4 0h-2v-4h2v4z\"/>\n",
              "    </g>\n",
              "</svg>\n",
              "      </button>\n",
              "\n",
              "<style>\n",
              "  .colab-df-quickchart {\n",
              "      --bg-color: #E8F0FE;\n",
              "      --fill-color: #1967D2;\n",
              "      --hover-bg-color: #E2EBFA;\n",
              "      --hover-fill-color: #174EA6;\n",
              "      --disabled-fill-color: #AAA;\n",
              "      --disabled-bg-color: #DDD;\n",
              "  }\n",
              "\n",
              "  [theme=dark] .colab-df-quickchart {\n",
              "      --bg-color: #3B4455;\n",
              "      --fill-color: #D2E3FC;\n",
              "      --hover-bg-color: #434B5C;\n",
              "      --hover-fill-color: #FFFFFF;\n",
              "      --disabled-bg-color: #3B4455;\n",
              "      --disabled-fill-color: #666;\n",
              "  }\n",
              "\n",
              "  .colab-df-quickchart {\n",
              "    background-color: var(--bg-color);\n",
              "    border: none;\n",
              "    border-radius: 50%;\n",
              "    cursor: pointer;\n",
              "    display: none;\n",
              "    fill: var(--fill-color);\n",
              "    height: 32px;\n",
              "    padding: 0;\n",
              "    width: 32px;\n",
              "  }\n",
              "\n",
              "  .colab-df-quickchart:hover {\n",
              "    background-color: var(--hover-bg-color);\n",
              "    box-shadow: 0 1px 2px rgba(60, 64, 67, 0.3), 0 1px 3px 1px rgba(60, 64, 67, 0.15);\n",
              "    fill: var(--button-hover-fill-color);\n",
              "  }\n",
              "\n",
              "  .colab-df-quickchart-complete:disabled,\n",
              "  .colab-df-quickchart-complete:disabled:hover {\n",
              "    background-color: var(--disabled-bg-color);\n",
              "    fill: var(--disabled-fill-color);\n",
              "    box-shadow: none;\n",
              "  }\n",
              "\n",
              "  .colab-df-spinner {\n",
              "    border: 2px solid var(--fill-color);\n",
              "    border-color: transparent;\n",
              "    border-bottom-color: var(--fill-color);\n",
              "    animation:\n",
              "      spin 1s steps(1) infinite;\n",
              "  }\n",
              "\n",
              "  @keyframes spin {\n",
              "    0% {\n",
              "      border-color: transparent;\n",
              "      border-bottom-color: var(--fill-color);\n",
              "      border-left-color: var(--fill-color);\n",
              "    }\n",
              "    20% {\n",
              "      border-color: transparent;\n",
              "      border-left-color: var(--fill-color);\n",
              "      border-top-color: var(--fill-color);\n",
              "    }\n",
              "    30% {\n",
              "      border-color: transparent;\n",
              "      border-left-color: var(--fill-color);\n",
              "      border-top-color: var(--fill-color);\n",
              "      border-right-color: var(--fill-color);\n",
              "    }\n",
              "    40% {\n",
              "      border-color: transparent;\n",
              "      border-right-color: var(--fill-color);\n",
              "      border-top-color: var(--fill-color);\n",
              "    }\n",
              "    60% {\n",
              "      border-color: transparent;\n",
              "      border-right-color: var(--fill-color);\n",
              "    }\n",
              "    80% {\n",
              "      border-color: transparent;\n",
              "      border-right-color: var(--fill-color);\n",
              "      border-bottom-color: var(--fill-color);\n",
              "    }\n",
              "    90% {\n",
              "      border-color: transparent;\n",
              "      border-bottom-color: var(--fill-color);\n",
              "    }\n",
              "  }\n",
              "</style>\n",
              "\n",
              "      <script>\n",
              "        async function quickchart(key) {\n",
              "          const quickchartButtonEl =\n",
              "            document.querySelector('#' + key + ' button');\n",
              "          quickchartButtonEl.disabled = true;  // To prevent multiple clicks.\n",
              "          quickchartButtonEl.classList.add('colab-df-spinner');\n",
              "          try {\n",
              "            const charts = await google.colab.kernel.invokeFunction(\n",
              "                'suggestCharts', [key], {});\n",
              "          } catch (error) {\n",
              "            console.error('Error during call to suggestCharts:', error);\n",
              "          }\n",
              "          quickchartButtonEl.classList.remove('colab-df-spinner');\n",
              "          quickchartButtonEl.classList.add('colab-df-quickchart-complete');\n",
              "        }\n",
              "        (() => {\n",
              "          let quickchartButtonEl =\n",
              "            document.querySelector('#df-6f6c2b6d-a137-4a0c-b16a-cfe1ea158978 button');\n",
              "          quickchartButtonEl.style.display =\n",
              "            google.colab.kernel.accessAllowed ? 'block' : 'none';\n",
              "        })();\n",
              "      </script>\n",
              "    </div>\n",
              "\n",
              "    </div>\n",
              "  </div>\n"
            ],
            "application/vnd.google.colaboratory.intrinsic+json": {
              "type": "dataframe",
              "variable_name": "data"
            }
          },
          "metadata": {},
          "execution_count": 17
        }
      ]
    },
    {
      "cell_type": "code",
      "source": [
        "# Mostrar dimensiones disponibles de la data\n",
        "print(\"Dimensiones de la data:\", data.shape)\n",
        "forma = data.shape\n",
        "filas, columnas = forma"
      ],
      "metadata": {
        "colab": {
          "base_uri": "https://localhost:8080/"
        },
        "id": "gJECOtRMxRdI",
        "outputId": "ab84e983-c8df-4662-ff66-9616b8fd6c0e"
      },
      "execution_count": 18,
      "outputs": [
        {
          "output_type": "stream",
          "name": "stdout",
          "text": [
            "Dimensiones de la data: (4363, 35)\n"
          ]
        }
      ]
    },
    {
      "cell_type": "markdown",
      "source": [
        "Explicación: cuando nos referimos a \"Dimensiones de la data\" estamos indicando el resultado de una función (shape en este caso) apliacda al conjunto de datos cuyo resulta nos indica primero la cantidad de registros que posee los datos y, segundo, la cantidad de columnas que posee ese mismo conjunto de datos.\n",
        "Para nuestro caso contamos con:"
      ],
      "metadata": {
        "id": "sbhDA6W2xWMZ"
      }
    },
    {
      "cell_type": "code",
      "source": [
        "# Mostrar las variables separadamente\n",
        "print(f\"Número de filas: {filas}\")\n",
        "print(f\"Número de columnas: {columnas}\")"
      ],
      "metadata": {
        "colab": {
          "base_uri": "https://localhost:8080/"
        },
        "id": "Y9zwshTzxYWR",
        "outputId": "a8ea3c91-a9fb-432e-c7b4-27ce72c071d5"
      },
      "execution_count": 19,
      "outputs": [
        {
          "output_type": "stream",
          "name": "stdout",
          "text": [
            "Número de filas: 4363\n",
            "Número de columnas: 35\n"
          ]
        }
      ]
    },
    {
      "cell_type": "code",
      "source": [
        "print(\"Información del dataset:\")\n",
        "data.info()"
      ],
      "metadata": {
        "colab": {
          "base_uri": "https://localhost:8080/"
        },
        "collapsed": true,
        "id": "we2EfvPlo-sc",
        "outputId": "075d07c1-42f7-4b5a-a918-1bc15bede8de"
      },
      "execution_count": 20,
      "outputs": [
        {
          "output_type": "stream",
          "name": "stdout",
          "text": [
            "Información del dataset:\n",
            "<class 'pandas.core.frame.DataFrame'>\n",
            "RangeIndex: 4363 entries, 0 to 4362\n",
            "Data columns (total 35 columns):\n",
            " #   Column                            Non-Null Count  Dtype  \n",
            "---  ------                            --------------  -----  \n",
            " 0   sexo                              4363 non-null   object \n",
            " 1   edad                              4363 non-null   int64  \n",
            " 2   concentracion_hemoglobina         4363 non-null   float64\n",
            " 3   temperatura_ambiente              4363 non-null   int64  \n",
            " 4   valor_acido_urico                 4363 non-null   float64\n",
            " 5   valor_albumina                    4363 non-null   float64\n",
            " 6   valor_colesterol_hdl              4363 non-null   int64  \n",
            " 7   valor_colesterol_ldl              4363 non-null   float64\n",
            " 8   valor_colesterol_total            4363 non-null   int64  \n",
            " 9   valor_creatina                    4363 non-null   float64\n",
            " 10  resultado_glucosa                 4363 non-null   float64\n",
            " 11  valor_insulina                    4363 non-null   float64\n",
            " 12  valor_trigliceridos               4363 non-null   int64  \n",
            " 13  resultado_glucosa_promedio        4363 non-null   int64  \n",
            " 14  valor_hemoglobina_glucosilada     4363 non-null   float64\n",
            " 15  valor_ferritina                   4363 non-null   float64\n",
            " 16  valor_folato                      4363 non-null   float64\n",
            " 17  valor_homocisteina                4363 non-null   float64\n",
            " 18  valor_proteinac_reactiva          4363 non-null   float64\n",
            " 19  valor_transferrina                4363 non-null   float64\n",
            " 20  valor_vitamina_bdoce              4363 non-null   float64\n",
            " 21  valor_vitamina_d                  4363 non-null   float64\n",
            " 22  peso                              4363 non-null   float64\n",
            " 23  estatura                          4363 non-null   float64\n",
            " 24  medida_cintura                    4363 non-null   float64\n",
            " 25  segundamedicion_peso              4363 non-null   float64\n",
            " 26  segundamedicion_estatura          4363 non-null   float64\n",
            " 27  distancia_rodilla_talon           4363 non-null   float64\n",
            " 28  circunferencia_de_la_pantorrilla  4363 non-null   float64\n",
            " 29  segundamedicion_cintura           4363 non-null   float64\n",
            " 30  tension_arterial                  4363 non-null   int64  \n",
            " 31  sueno_horas                       4363 non-null   int64  \n",
            " 32  actividad_total                   4363 non-null   int64  \n",
            " 33  riesgo_hipertension               4363 non-null   object \n",
            " 34  rango_edad                        4363 non-null   object \n",
            "dtypes: float64(23), int64(9), object(3)\n",
            "memory usage: 1.2+ MB\n"
          ]
        }
      ]
    },
    {
      "cell_type": "markdown",
      "source": [
        "# Análisis descriptivo"
      ],
      "metadata": {
        "id": "7UfbYuRwwizS"
      }
    },
    {
      "cell_type": "code",
      "source": [
        "# Mostrar tipos de datos disponibles del conjunto de datos\n",
        "print(\"Tipos de datos disponibles del conjunto de la datos:\")\n",
        "print(data.dtypes)"
      ],
      "metadata": {
        "colab": {
          "base_uri": "https://localhost:8080/"
        },
        "id": "42NW1Qxbwn5k",
        "outputId": "6d9d4d80-378b-4843-fdf1-95c034cb7abe"
      },
      "execution_count": 21,
      "outputs": [
        {
          "output_type": "stream",
          "name": "stdout",
          "text": [
            "Tipos de datos disponibles del conjunto de la datos:\n",
            "sexo                                 object\n",
            "edad                                  int64\n",
            "concentracion_hemoglobina           float64\n",
            "temperatura_ambiente                  int64\n",
            "valor_acido_urico                   float64\n",
            "valor_albumina                      float64\n",
            "valor_colesterol_hdl                  int64\n",
            "valor_colesterol_ldl                float64\n",
            "valor_colesterol_total                int64\n",
            "valor_creatina                      float64\n",
            "resultado_glucosa                   float64\n",
            "valor_insulina                      float64\n",
            "valor_trigliceridos                   int64\n",
            "resultado_glucosa_promedio            int64\n",
            "valor_hemoglobina_glucosilada       float64\n",
            "valor_ferritina                     float64\n",
            "valor_folato                        float64\n",
            "valor_homocisteina                  float64\n",
            "valor_proteinac_reactiva            float64\n",
            "valor_transferrina                  float64\n",
            "valor_vitamina_bdoce                float64\n",
            "valor_vitamina_d                    float64\n",
            "peso                                float64\n",
            "estatura                            float64\n",
            "medida_cintura                      float64\n",
            "segundamedicion_peso                float64\n",
            "segundamedicion_estatura            float64\n",
            "distancia_rodilla_talon             float64\n",
            "circunferencia_de_la_pantorrilla    float64\n",
            "segundamedicion_cintura             float64\n",
            "tension_arterial                      int64\n",
            "sueno_horas                           int64\n",
            "actividad_total                       int64\n",
            "riesgo_hipertension                  object\n",
            "rango_edad                           object\n",
            "dtype: object\n"
          ]
        }
      ]
    },
    {
      "cell_type": "code",
      "source": [
        "# Estadísticas descriptivas para variables numéricas del conjunto de datos\n",
        "print(\"Estadísticas descriptivas para variables numéricas del conjunto de datos:\")\n",
        "print(data.describe())"
      ],
      "metadata": {
        "colab": {
          "base_uri": "https://localhost:8080/"
        },
        "id": "LzDREu1exvAE",
        "outputId": "f609b712-75b9-48cc-bc73-8558952935ca"
      },
      "execution_count": 22,
      "outputs": [
        {
          "output_type": "stream",
          "name": "stdout",
          "text": [
            "Estadísticas descriptivas para variables numéricas del conjunto de datos:\n",
            "              edad  concentracion_hemoglobina  temperatura_ambiente  \\\n",
            "count  4363.000000                4363.000000           4363.000000   \n",
            "mean     47.315609                  14.228581             21.385973   \n",
            "std      14.445572                   1.149723              3.165974   \n",
            "min       4.000000                   5.500000              2.000000   \n",
            "25%      36.000000                  14.200000             22.000000   \n",
            "50%      48.000000                  14.200000             22.000000   \n",
            "75%      58.000000                  14.200000             22.000000   \n",
            "max      93.000000                  19.900000             35.000000   \n",
            "\n",
            "       valor_acido_urico  valor_albumina  valor_colesterol_hdl  \\\n",
            "count        4363.000000     4363.000000           4363.000000   \n",
            "mean            4.787302        3.868966             36.030254   \n",
            "std             0.820317        0.450879              8.082762   \n",
            "min             0.200000        1.000000              9.000000   \n",
            "25%             4.800000        4.000000             34.000000   \n",
            "50%             4.800000        4.000000             34.000000   \n",
            "75%             4.800000        4.000000             34.000000   \n",
            "max            11.000000        5.300000            279.000000   \n",
            "\n",
            "       valor_colesterol_ldl  valor_colesterol_total  valor_creatina  \\\n",
            "count           4363.000000             4363.000000     4363.000000   \n",
            "mean              87.809489              144.138895        0.614573   \n",
            "std               17.530104               28.228483        0.200610   \n",
            "min               11.100000               40.000000        0.060000   \n",
            "25%               86.000000              139.000000        0.580000   \n",
            "50%               86.000000              139.000000        0.580000   \n",
            "75%               86.000000              139.000000        0.580000   \n",
            "max              303.000000              681.000000        8.270000   \n",
            "\n",
            "       resultado_glucosa  ...     estatura  medida_cintura  \\\n",
            "count        4363.000000  ...  4363.000000     4363.000000   \n",
            "mean           96.894660  ...   156.165437       68.425556   \n",
            "std            45.586604  ...    14.705331       46.557602   \n",
            "min            10.400000  ...     0.000000        0.000000   \n",
            "25%            92.000000  ...   151.000000        0.000000   \n",
            "50%            92.000000  ...   154.500000       90.100000   \n",
            "75%            92.000000  ...   162.900000      101.600000   \n",
            "max          2372.000000  ...   192.000000      189.300000   \n",
            "\n",
            "       segundamedicion_peso  segundamedicion_estatura  \\\n",
            "count           4363.000000               4363.000000   \n",
            "mean              65.789817                153.819940   \n",
            "std                7.447041                  7.854184   \n",
            "min                2.000000                  0.000000   \n",
            "25%               64.700000                154.000000   \n",
            "50%               64.700000                154.000000   \n",
            "75%               64.700000                154.000000   \n",
            "max              151.200000                182.600000   \n",
            "\n",
            "       distancia_rodilla_talon  circunferencia_de_la_pantorrilla  \\\n",
            "count              4363.000000                       4363.000000   \n",
            "mean                 48.456910                         34.061242   \n",
            "std                   3.488546                          4.029785   \n",
            "min                   0.000000                          0.000000   \n",
            "25%                  48.500000                         33.500000   \n",
            "50%                  48.500000                         33.500000   \n",
            "75%                  48.500000                         33.500000   \n",
            "max                  97.300000                        105.200000   \n",
            "\n",
            "       segundamedicion_cintura  tension_arterial  sueno_horas  actividad_total  \n",
            "count              4363.000000       4363.000000  4363.000000      4363.000000  \n",
            "mean                 19.986340        123.732065     3.239972       481.815265  \n",
            "std                  40.442427         22.608401     2.778287       673.702857  \n",
            "min                   0.000000          0.000000     1.000000        10.000000  \n",
            "25%                   0.000000        111.000000     2.000000       240.000000  \n",
            "50%                   0.000000        121.000000     3.000000       380.000000  \n",
            "75%                   0.000000        136.000000     4.000000       585.000000  \n",
            "max                 165.000000        200.000000    99.000000     17820.000000  \n",
            "\n",
            "[8 rows x 32 columns]\n"
          ]
        }
      ]
    },
    {
      "cell_type": "markdown",
      "source": [
        "#### Variables categóricas"
      ],
      "metadata": {
        "id": "zfJkhLE3x0iq"
      }
    },
    {
      "cell_type": "code",
      "source": [
        "# Obtener las columnas con tipo de dato 'object'\n",
        "categorical_cols_object = data.select_dtypes(include=['object']).columns.tolist()\n",
        "\n",
        "# Obtener las columnas con tipo de dato 'category'\n",
        "categorical_cols_category = data.select_dtypes(include=['category']).columns.tolist()\n",
        "\n",
        "# Combinar ambas listas para obtener todas las variables categóricas\n",
        "categorical_cols = categorical_cols_object + categorical_cols_category\n",
        "\n",
        "# Mostrar las variables categóricas por pantalla\n",
        "print(\"Variables categóricas:\")\n",
        "for col in categorical_cols:\n",
        "    print(f\"- {col}\")"
      ],
      "metadata": {
        "colab": {
          "base_uri": "https://localhost:8080/"
        },
        "id": "1JqeUC6_x3_2",
        "outputId": "953d13ae-3c9b-4f77-8d07-d9eb68af450f"
      },
      "execution_count": 23,
      "outputs": [
        {
          "output_type": "stream",
          "name": "stdout",
          "text": [
            "Variables categóricas:\n",
            "- sexo\n",
            "- riesgo_hipertension\n",
            "- rango_edad\n"
          ]
        }
      ]
    },
    {
      "cell_type": "code",
      "source": [
        "# Frecuencias para variables categóricas\n",
        "print(\"Frecuencias para las variables categóricas:\")\n",
        "print(data['sexo'].value_counts())\n",
        "print(data['rango_edad'].value_counts())"
      ],
      "metadata": {
        "colab": {
          "base_uri": "https://localhost:8080/"
        },
        "id": "m0Ih_k1qx5g3",
        "outputId": "a1029b40-63d1-4223-f8b7-46791a572e5e"
      },
      "execution_count": 24,
      "outputs": [
        {
          "output_type": "stream",
          "name": "stdout",
          "text": [
            "Frecuencias para las variables categóricas:\n",
            "sexo\n",
            "f    2676\n",
            "m    1687\n",
            "Name: count, dtype: int64\n",
            "rango_edad\n",
            "41_60          2077\n",
            "21_40          1300\n",
            "61_80           834\n",
            "menor_de_20     124\n",
            "mayor_a_80       28\n",
            "Name: count, dtype: int64\n"
          ]
        }
      ]
    },
    {
      "cell_type": "markdown",
      "source": [
        "# Visualización de los datos"
      ],
      "metadata": {
        "id": "Zf_4sOYcwonL"
      }
    },
    {
      "cell_type": "code",
      "source": [
        "# Histograma de la variable \"edad\"\n",
        "plt.figure(figsize=(10, 6))\n",
        "sns.histplot(data['edad'], bins=30, kde=True)\n",
        "plt.title('Distribución de Edades de los pacientes')\n",
        "plt.xlabel('Edad')\n",
        "plt.ylabel('Frecuencia')\n",
        "plt.show()"
      ],
      "metadata": {
        "colab": {
          "base_uri": "https://localhost:8080/",
          "height": 573
        },
        "id": "yqEb1ZCdwthP",
        "outputId": "e627ecb8-ad37-4f44-acc4-cdc1e196abd2"
      },
      "execution_count": 25,
      "outputs": [
        {
          "output_type": "display_data",
          "data": {
            "text/plain": [
              "<Figure size 1000x600 with 1 Axes>"
            ],
            "image/png": "[encoded data removed]"
          },
          "metadata": {}
        }
      ]
    },
    {
      "cell_type": "code",
      "source": [
        "# Gráfico de barras para la variable 'rango_edad'\n",
        "plt.figure(figsize=(10, 6))\n",
        "sns.countplot(x='rango_edad', data=data)\n",
        "plt.title('Distribución del Rango de edades')\n",
        "plt.xlabel('Rango de Edad')\n",
        "plt.ylabel('Frecuencia')\n",
        "plt.show()"
      ],
      "metadata": {
        "colab": {
          "base_uri": "https://localhost:8080/",
          "height": 574
        },
        "id": "qLZ5dBjYyASX",
        "outputId": "103db95f-d75a-4a66-b7df-1805c21c0a1c"
      },
      "execution_count": 26,
      "outputs": [
        {
          "output_type": "display_data",
          "data": {
            "text/plain": [
              "<Figure size 1000x600 with 1 Axes>"
            ],
            "image/png": "[encoded data removed]"
          },
          "metadata": {}
        }
      ]
    },
    {
      "cell_type": "markdown",
      "source": [
        "# Verificar valores únicos en variables clave"
      ],
      "metadata": {
        "id": "U0pTQXL1pQgM"
      }
    },
    {
      "cell_type": "code",
      "source": [
        "print(\"\\nValores únicos en 'sexo':\", data['sexo'].unique())\n",
        "print(\"Valores únicos en 'rango_edad':\", data['rango_edad'].unique())\n",
        "print(\"Valores únicos en 'riesgo_hipertension':\", data['riesgo_hipertension'].unique())"
      ],
      "metadata": {
        "colab": {
          "base_uri": "https://localhost:8080/"
        },
        "collapsed": true,
        "id": "4EvCit-XpRx0",
        "outputId": "e9f955e9-66ee-421a-c639-78e614926ef1"
      },
      "execution_count": 27,
      "outputs": [
        {
          "output_type": "stream",
          "name": "stdout",
          "text": [
            "\n",
            "Valores únicos en 'sexo': ['f' 'm']\n",
            "Valores únicos en 'rango_edad': ['41_60' '61_80' '21_40' 'menor_de_20' 'mayor_a_80']\n",
            "Valores únicos en 'riesgo_hipertension': ['yes' 'no']\n"
          ]
        }
      ]
    },
    {
      "cell_type": "markdown",
      "source": [
        "# Verificar datos faltantes"
      ],
      "metadata": {
        "id": "MCSVcEhNpSdR"
      }
    },
    {
      "cell_type": "code",
      "source": [
        "print(\"\\nValores nulos por columna:\")\n",
        "print(data.isnull().sum())\n"
      ],
      "metadata": {
        "colab": {
          "base_uri": "https://localhost:8080/"
        },
        "collapsed": true,
        "id": "1Mpbe4zEpwGk",
        "outputId": "52590913-ec67-445f-873a-2f59910dfe5c"
      },
      "execution_count": 28,
      "outputs": [
        {
          "output_type": "stream",
          "name": "stdout",
          "text": [
            "\n",
            "Valores nulos por columna:\n",
            "sexo                                0\n",
            "edad                                0\n",
            "concentracion_hemoglobina           0\n",
            "temperatura_ambiente                0\n",
            "valor_acido_urico                   0\n",
            "valor_albumina                      0\n",
            "valor_colesterol_hdl                0\n",
            "valor_colesterol_ldl                0\n",
            "valor_colesterol_total              0\n",
            "valor_creatina                      0\n",
            "resultado_glucosa                   0\n",
            "valor_insulina                      0\n",
            "valor_trigliceridos                 0\n",
            "resultado_glucosa_promedio          0\n",
            "valor_hemoglobina_glucosilada       0\n",
            "valor_ferritina                     0\n",
            "valor_folato                        0\n",
            "valor_homocisteina                  0\n",
            "valor_proteinac_reactiva            0\n",
            "valor_transferrina                  0\n",
            "valor_vitamina_bdoce                0\n",
            "valor_vitamina_d                    0\n",
            "peso                                0\n",
            "estatura                            0\n",
            "medida_cintura                      0\n",
            "segundamedicion_peso                0\n",
            "segundamedicion_estatura            0\n",
            "distancia_rodilla_talon             0\n",
            "circunferencia_de_la_pantorrilla    0\n",
            "segundamedicion_cintura             0\n",
            "tension_arterial                    0\n",
            "sueno_horas                         0\n",
            "actividad_total                     0\n",
            "riesgo_hipertension                 0\n",
            "rango_edad                          0\n",
            "dtype: int64\n"
          ]
        }
      ]
    },
    {
      "cell_type": "markdown",
      "source": [
        "# Filtrar outliers en 'edad' usando IQR (como en el TP original)"
      ],
      "metadata": {
        "id": "UMnW_YPkpyP4"
      }
    },
    {
      "cell_type": "code",
      "source": [
        "Q1 = data['edad'].quantile(0.25)\n",
        "Q3 = data['edad'].quantile(0.75)\n",
        "IQR = Q3 - Q1\n",
        "lower_bound = Q1 - 1.5 * IQR\n",
        "upper_bound = Q3 + 1.5 * IQR\n",
        "data_filtered = data[(data['edad'] >= lower_bound) & (data['edad'] <= upper_bound)]\n",
        "print(f\"\\nDatos después de filtrar outliers en edad: {data_filtered.shape}\")\n"
      ],
      "metadata": {
        "colab": {
          "base_uri": "https://localhost:8080/"
        },
        "id": "4Ycq4JPZp1iC",
        "outputId": "0d538109-9709-4a31-f924-5e038878838c"
      },
      "execution_count": 29,
      "outputs": [
        {
          "output_type": "stream",
          "name": "stdout",
          "text": [
            "\n",
            "Datos después de filtrar outliers en edad: (4361, 35)\n"
          ]
        }
      ]
    },
    {
      "cell_type": "markdown",
      "source": [
        "## 8. Modelado como Problema de Machine Learning\n",
        "# **Problema**: Clasificación supervisada para predecir `riesgo_hipertension` (\"yes\" o \"no\").  \n",
        "# - **Features**: Variables biométricas (edad, colesterol, glucosa, peso, etc.) y categóricas (sexo, rango_edad).  \n",
        "# - **Target**: `riesgo_hipertension` (binaria).  \n",
        "# - **Estrategia**: Dividimos los datos en entrenamiento (80%) y prueba (20%), entrenamos tres modelos simples y evaluamos su desempeño.  \n",
        "# **Por qué**: Esto nos permite predecir el riesgo de hipertensión y validar si la edad productiva (21-60 años) tiene mayor riesgo.\n"
      ],
      "metadata": {
        "id": "idAkQPB8p-Ht"
      }
    },
    {
      "cell_type": "markdown",
      "source": [
        "# Codificar variables categóricas"
      ],
      "metadata": {
        "id": "ZZu-BPYGqA1o"
      }
    },
    {
      "cell_type": "code",
      "source": [
        "le_sexo = LabelEncoder()\n",
        "le_riesgo = LabelEncoder()\n",
        "le_rango_edad = LabelEncoder()\n",
        "\n",
        "#data_filtered['sexo_encoded'] = le_sexo.fit_transform(data_filtered['sexo'])\n",
        "#data_filtered['riesgo_hipertension_encoded'] = le_riesgo.fit_transform(data_filtered['riesgo_hipertension'])\n",
        "#data_filtered['rango_edad_encoded'] = le_rango_edad.fit_transform(data_filtered['rango_edad'])\n",
        "\n",
        "# Codificar variables categóricas usando .loc para evitar SettingWithCopyWarning\n",
        "data_filtered.loc[:, 'sexo_encoded'] = le_sexo.fit_transform(data_filtered['sexo'])\n",
        "data_filtered.loc[:, 'riesgo_hipertension_encoded'] = le_riesgo.fit_transform(data_filtered['riesgo_hipertension'])\n",
        "data_filtered.loc[:, 'rango_edad_encoded'] = le_rango_edad.fit_transform(data_filtered['rango_edad'])\n"
      ],
      "metadata": {
        "id": "vTUlo1-KqBkS"
      },
      "execution_count": 31,
      "outputs": []
    },
    {
      "cell_type": "markdown",
      "source": [
        "# Definir features (X) y target (y)"
      ],
      "metadata": {
        "id": "efhPWA6NqQM8"
      }
    },
    {
      "cell_type": "code",
      "source": [
        "X = data_filtered.drop(['riesgo_hipertension', 'riesgo_hipertension_encoded', 'rango_edad', 'sexo'], axis=1)\n",
        "y = data_filtered['riesgo_hipertension_encoded']"
      ],
      "metadata": {
        "id": "vaImi-_w3rp7"
      },
      "execution_count": 41,
      "outputs": []
    },
    {
      "cell_type": "markdown",
      "source": [
        "# Dividir datos"
      ],
      "metadata": {
        "id": "BxF0bcPhqVbi"
      }
    },
    {
      "cell_type": "code",
      "source": [
        "X_train, X_test, y_train, y_test = train_test_split(X, y, test_size=0.2, random_state=42)\n",
        "print(f\"Datos de entrenamiento: {X_train.shape[0]} filas\")\n",
        "print(f\"Datos de prueba: {X_test.shape[0]} filas\")"
      ],
      "metadata": {
        "colab": {
          "base_uri": "https://localhost:8080/"
        },
        "id": "pJtSL8T4qX44",
        "outputId": "ccd3e474-9ad1-4e5c-849f-836e7f70e095"
      },
      "execution_count": 42,
      "outputs": [
        {
          "output_type": "stream",
          "name": "stdout",
          "text": [
            "Datos de entrenamiento: 3488 filas\n",
            "Datos de prueba: 873 filas\n"
          ]
        }
      ]
    },
    {
      "cell_type": "markdown",
      "source": [
        "## 9. Ingeniería de Atributos\n",
        "Creamos nuevas variables para mejorar las predicciones:  \n",
        "- **Índice de Masa Corporal (IMC)**: `peso / (estatura^2)`.  \n",
        "- **Ratio colesterol HDL/LDL**: Relación entre colesterol \"bueno\" y \"malo\".  \n",
        "- **Ratio cintura/estatura**: Indicador de obesidad central.  \n",
        "**Por qué**: Estas features capturan relaciones biométricas relevantes para la hipertensión.\n"
      ],
      "metadata": {
        "id": "pdPuiwT-qcHM"
      }
    },
    {
      "cell_type": "markdown",
      "source": [
        "# Crear nuevas features"
      ],
      "metadata": {
        "id": "l8q5Ajm8qgMg"
      }
    },
    {
      "cell_type": "code",
      "source": [
        "X_train['IMC'] = X_train['peso'] / (X_train['estatura'] ** 2)\n",
        "X_test['IMC'] = X_test['peso'] / (X_test['estatura'] ** 2)\n",
        "\n",
        "X_train['ratio_hdl_ldl'] = X_train['valor_colesterol_hdl'] / X_train['valor_colesterol_ldl']\n",
        "X_test['ratio_hdl_ldl'] = X_test['valor_colesterol_hdl'] / X_test['valor_colesterol_ldl']\n",
        "\n",
        "X_train['ratio_cintura_estatura'] = X_train['medida_cintura'] / X_train['estatura']\n",
        "X_test['ratio_cintura_estatura'] = X_test['medida_cintura'] / X_test['estatura']"
      ],
      "metadata": {
        "id": "hOAf5XpwqkG-"
      },
      "execution_count": 43,
      "outputs": []
    },
    {
      "cell_type": "markdown",
      "source": [
        "# Reemplazar posibles valores infinitos o NaN en ratios"
      ],
      "metadata": {
        "id": "OmKOWvjaql2Y"
      }
    },
    {
      "cell_type": "code",
      "source": [
        "X_train = X_train.replace([np.inf, -np.inf], np.nan).fillna(0)\n",
        "X_test = X_test.replace([np.inf, -np.inf], np.nan).fillna(0)\n",
        "\n",
        "print(\"Dataset de entrenamiento con nuevas features:\")\n",
        "X_train.head()"
      ],
      "metadata": {
        "colab": {
          "base_uri": "https://localhost:8080/",
          "height": 273
        },
        "id": "T8nxaTy_qoQA",
        "outputId": "e5b7867f-6b0e-4ee8-a3e9-d2b3f1b9ff6f"
      },
      "execution_count": 44,
      "outputs": [
        {
          "output_type": "stream",
          "name": "stdout",
          "text": [
            "Dataset de entrenamiento con nuevas features:\n"
          ]
        },
        {
          "output_type": "execute_result",
          "data": {
            "text/plain": [
              "      edad  concentracion_hemoglobina  temperatura_ambiente  \\\n",
              "3012    55                       14.3                    22   \n",
              "2360    60                       14.2                    22   \n",
              "1937    65                       15.3                    22   \n",
              "113     45                       14.2                    22   \n",
              "2178    54                       14.0                    15   \n",
              "\n",
              "      valor_acido_urico  valor_albumina  valor_colesterol_hdl  \\\n",
              "3012                2.9             1.9                    21   \n",
              "2360                4.8             4.0                    34   \n",
              "1937                4.8             4.0                    34   \n",
              "113                 4.8             4.0                    34   \n",
              "2178                5.3             3.7                    39   \n",
              "\n",
              "      valor_colesterol_ldl  valor_colesterol_total  valor_creatina  \\\n",
              "3012                  54.0                      89            0.42   \n",
              "2360                  86.0                     139            0.58   \n",
              "1937                  86.0                     139            0.58   \n",
              "113                   86.0                     139            0.58   \n",
              "2178                 138.0                     208            0.70   \n",
              "\n",
              "      resultado_glucosa  ...  circunferencia_de_la_pantorrilla  \\\n",
              "3012               69.0  ...                              33.5   \n",
              "2360               92.0  ...                              35.2   \n",
              "1937               92.0  ...                              33.7   \n",
              "113                92.0  ...                              33.5   \n",
              "2178               96.0  ...                              33.5   \n",
              "\n",
              "      segundamedicion_cintura  tension_arterial  sueno_horas  actividad_total  \\\n",
              "3012                      0.0               139            4              270   \n",
              "2360                     95.8               132            2              300   \n",
              "1937                    117.4               115            4              445   \n",
              "113                       0.0               115            4              330   \n",
              "2178                      0.0               143            1              720   \n",
              "\n",
              "      sexo_encoded  rango_edad_encoded       IMC  ratio_hdl_ldl  \\\n",
              "3012             0                   1  0.003283       0.388889   \n",
              "2360             0                   1  0.000088       0.395349   \n",
              "1937             0                   2  0.000088       0.395349   \n",
              "113              1                   1  0.003372       0.395349   \n",
              "2178             0                   1  0.002842       0.282609   \n",
              "\n",
              "      ratio_cintura_estatura  \n",
              "3012                0.688581  \n",
              "2360                0.000000  \n",
              "1937                0.000000  \n",
              "113                 0.000000  \n",
              "2178                0.652919  \n",
              "\n",
              "[5 rows x 37 columns]"
            ],
            "text/html": [
              "\n",
              "  <div id=\"df-78a0abd3-ca30-4c52-b21b-420fedbd066c\" class=\"colab-df-container\">\n",
              "    <div>\n",
              "<style scoped>\n",
              "    .dataframe tbody tr th:only-of-type {\n",
              "        vertical-align: middle;\n",
              "    }\n",
              "\n",
              "    .dataframe tbody tr th {\n",
              "        vertical-align: top;\n",
              "    }\n",
              "\n",
              "    .dataframe thead th {\n",
              "        text-align: right;\n",
              "    }\n",
              "</style>\n",
              "<table border=\"1\" class=\"dataframe\">\n",
              "  <thead>\n",
              "    <tr style=\"text-align: right;\">\n",
              "      <th></th>\n",
              "      <th>edad</th>\n",
              "      <th>concentracion_hemoglobina</th>\n",
              "      <th>temperatura_ambiente</th>\n",
              "      <th>valor_acido_urico</th>\n",
              "      <th>valor_albumina</th>\n",
              "      <th>valor_colesterol_hdl</th>\n",
              "      <th>valor_colesterol_ldl</th>\n",
              "      <th>valor_colesterol_total</th>\n",
              "      <th>valor_creatina</th>\n",
              "      <th>resultado_glucosa</th>\n",
              "      <th>...</th>\n",
              "      <th>circunferencia_de_la_pantorrilla</th>\n",
              "      <th>segundamedicion_cintura</th>\n",
              "      <th>tension_arterial</th>\n",
              "      <th>sueno_horas</th>\n",
              "      <th>actividad_total</th>\n",
              "      <th>sexo_encoded</th>\n",
              "      <th>rango_edad_encoded</th>\n",
              "      <th>IMC</th>\n",
              "      <th>ratio_hdl_ldl</th>\n",
              "      <th>ratio_cintura_estatura</th>\n",
              "    </tr>\n",
              "  </thead>\n",
              "  <tbody>\n",
              "    <tr>\n",
              "      <th>3012</th>\n",
              "      <td>55</td>\n",
              "      <td>14.3</td>\n",
              "      <td>22</td>\n",
              "      <td>2.9</td>\n",
              "      <td>1.9</td>\n",
              "      <td>21</td>\n",
              "      <td>54.0</td>\n",
              "      <td>89</td>\n",
              "      <td>0.42</td>\n",
              "      <td>69.0</td>\n",
              "      <td>...</td>\n",
              "      <td>33.5</td>\n",
              "      <td>0.0</td>\n",
              "      <td>139</td>\n",
              "      <td>4</td>\n",
              "      <td>270</td>\n",
              "      <td>0</td>\n",
              "      <td>1</td>\n",
              "      <td>0.003283</td>\n",
              "      <td>0.388889</td>\n",
              "      <td>0.688581</td>\n",
              "    </tr>\n",
              "    <tr>\n",
              "      <th>2360</th>\n",
              "      <td>60</td>\n",
              "      <td>14.2</td>\n",
              "      <td>22</td>\n",
              "      <td>4.8</td>\n",
              "      <td>4.0</td>\n",
              "      <td>34</td>\n",
              "      <td>86.0</td>\n",
              "      <td>139</td>\n",
              "      <td>0.58</td>\n",
              "      <td>92.0</td>\n",
              "      <td>...</td>\n",
              "      <td>35.2</td>\n",
              "      <td>95.8</td>\n",
              "      <td>132</td>\n",
              "      <td>2</td>\n",
              "      <td>300</td>\n",
              "      <td>0</td>\n",
              "      <td>1</td>\n",
              "      <td>0.000088</td>\n",
              "      <td>0.395349</td>\n",
              "      <td>0.000000</td>\n",
              "    </tr>\n",
              "    <tr>\n",
              "      <th>1937</th>\n",
              "      <td>65</td>\n",
              "      <td>15.3</td>\n",
              "      <td>22</td>\n",
              "      <td>4.8</td>\n",
              "      <td>4.0</td>\n",
              "      <td>34</td>\n",
              "      <td>86.0</td>\n",
              "      <td>139</td>\n",
              "      <td>0.58</td>\n",
              "      <td>92.0</td>\n",
              "      <td>...</td>\n",
              "      <td>33.7</td>\n",
              "      <td>117.4</td>\n",
              "      <td>115</td>\n",
              "      <td>4</td>\n",
              "      <td>445</td>\n",
              "      <td>0</td>\n",
              "      <td>2</td>\n",
              "      <td>0.000088</td>\n",
              "      <td>0.395349</td>\n",
              "      <td>0.000000</td>\n",
              "    </tr>\n",
              "    <tr>\n",
              "      <th>113</th>\n",
              "      <td>45</td>\n",
              "      <td>14.2</td>\n",
              "      <td>22</td>\n",
              "      <td>4.8</td>\n",
              "      <td>4.0</td>\n",
              "      <td>34</td>\n",
              "      <td>86.0</td>\n",
              "      <td>139</td>\n",
              "      <td>0.58</td>\n",
              "      <td>92.0</td>\n",
              "      <td>...</td>\n",
              "      <td>33.5</td>\n",
              "      <td>0.0</td>\n",
              "      <td>115</td>\n",
              "      <td>4</td>\n",
              "      <td>330</td>\n",
              "      <td>1</td>\n",
              "      <td>1</td>\n",
              "      <td>0.003372</td>\n",
              "      <td>0.395349</td>\n",
              "      <td>0.000000</td>\n",
              "    </tr>\n",
              "    <tr>\n",
              "      <th>2178</th>\n",
              "      <td>54</td>\n",
              "      <td>14.0</td>\n",
              "      <td>15</td>\n",
              "      <td>5.3</td>\n",
              "      <td>3.7</td>\n",
              "      <td>39</td>\n",
              "      <td>138.0</td>\n",
              "      <td>208</td>\n",
              "      <td>0.70</td>\n",
              "      <td>96.0</td>\n",
              "      <td>...</td>\n",
              "      <td>33.5</td>\n",
              "      <td>0.0</td>\n",
              "      <td>143</td>\n",
              "      <td>1</td>\n",
              "      <td>720</td>\n",
              "      <td>0</td>\n",
              "      <td>1</td>\n",
              "      <td>0.002842</td>\n",
              "      <td>0.282609</td>\n",
              "      <td>0.652919</td>\n",
              "    </tr>\n",
              "  </tbody>\n",
              "</table>\n",
              "<p>5 rows × 37 columns</p>\n",
              "</div>\n",
              "    <div class=\"colab-df-buttons\">\n",
              "\n",
              "  <div class=\"colab-df-container\">\n",
              "    <button class=\"colab-df-convert\" onclick=\"convertToInteractive('df-78a0abd3-ca30-4c52-b21b-420fedbd066c')\"\n",
              "            title=\"Convert this dataframe to an interactive table.\"\n",
              "            style=\"display:none;\">\n",
              "\n",
              "  <svg xmlns=\"http://www.w3.org/2000/svg\" height=\"24px\" viewBox=\"0 -960 960 960\">\n",
              "    <path d=\"M120-120v-720h720v720H120Zm60-500h600v-160H180v160Zm220 220h160v-160H400v160Zm0 220h160v-160H400v160ZM180-400h160v-160H180v160Zm440 0h160v-160H620v160ZM180-180h160v-160H180v160Zm440 0h160v-160H620v160Z\"/>\n",
              "  </svg>\n",
              "    </button>\n",
              "\n",
              "  <style>\n",
              "    .colab-df-container {\n",
              "      display:flex;\n",
              "      gap: 12px;\n",
              "    }\n",
              "\n",
              "    .colab-df-convert {\n",
              "      background-color: #E8F0FE;\n",
              "      border: none;\n",
              "      border-radius: 50%;\n",
              "      cursor: pointer;\n",
              "      display: none;\n",
              "      fill: #1967D2;\n",
              "      height: 32px;\n",
              "      padding: 0 0 0 0;\n",
              "      width: 32px;\n",
              "    }\n",
              "\n",
              "    .colab-df-convert:hover {\n",
              "      background-color: #E2EBFA;\n",
              "      box-shadow: 0px 1px 2px rgba(60, 64, 67, 0.3), 0px 1px 3px 1px rgba(60, 64, 67, 0.15);\n",
              "      fill: #174EA6;\n",
              "    }\n",
              "\n",
              "    .colab-df-buttons div {\n",
              "      margin-bottom: 4px;\n",
              "    }\n",
              "\n",
              "    [theme=dark] .colab-df-convert {\n",
              "      background-color: #3B4455;\n",
              "      fill: #D2E3FC;\n",
              "    }\n",
              "\n",
              "    [theme=dark] .colab-df-convert:hover {\n",
              "      background-color: #434B5C;\n",
              "      box-shadow: 0px 1px 3px 1px rgba(0, 0, 0, 0.15);\n",
              "      filter: drop-shadow(0px 1px 2px rgba(0, 0, 0, 0.3));\n",
              "      fill: #FFFFFF;\n",
              "    }\n",
              "  </style>\n",
              "\n",
              "    <script>\n",
              "      const buttonEl =\n",
              "        document.querySelector('#df-78a0abd3-ca30-4c52-b21b-420fedbd066c button.colab-df-convert');\n",
              "      buttonEl.style.display =\n",
              "        google.colab.kernel.accessAllowed ? 'block' : 'none';\n",
              "\n",
              "      async function convertToInteractive(key) {\n",
              "        const element = document.querySelector('#df-78a0abd3-ca30-4c52-b21b-420fedbd066c');\n",
              "        const dataTable =\n",
              "          await google.colab.kernel.invokeFunction('convertToInteractive',\n",
              "                                                    [key], {});\n",
              "        if (!dataTable) return;\n",
              "\n",
              "        const docLinkHtml = 'Like what you see? Visit the ' +\n",
              "          '<a target=\"_blank\" href=https://colab.research.google.com/notebooks/data_table.ipynb>data table notebook</a>'\n",
              "          + ' to learn more about interactive tables.';\n",
              "        element.innerHTML = '';\n",
              "        dataTable['output_type'] = 'display_data';\n",
              "        await google.colab.output.renderOutput(dataTable, element);\n",
              "        const docLink = document.createElement('div');\n",
              "        docLink.innerHTML = docLinkHtml;\n",
              "        element.appendChild(docLink);\n",
              "      }\n",
              "    </script>\n",
              "  </div>\n",
              "\n",
              "\n",
              "    <div id=\"df-35f16b30-a7ad-42b6-9186-cf845baecd36\">\n",
              "      <button class=\"colab-df-quickchart\" onclick=\"quickchart('df-35f16b30-a7ad-42b6-9186-cf845baecd36')\"\n",
              "                title=\"Suggest charts\"\n",
              "                style=\"display:none;\">\n",
              "\n",
              "<svg xmlns=\"http://www.w3.org/2000/svg\" height=\"24px\"viewBox=\"0 0 24 24\"\n",
              "     width=\"24px\">\n",
              "    <g>\n",
              "        <path d=\"M19 3H5c-1.1 0-2 .9-2 2v14c0 1.1.9 2 2 2h14c1.1 0 2-.9 2-2V5c0-1.1-.9-2-2-2zM9 17H7v-7h2v7zm4 0h-2V7h2v10zm4 0h-2v-4h2v4z\"/>\n",
              "    </g>\n",
              "</svg>\n",
              "      </button>\n",
              "\n",
              "<style>\n",
              "  .colab-df-quickchart {\n",
              "      --bg-color: #E8F0FE;\n",
              "      --fill-color: #1967D2;\n",
              "      --hover-bg-color: #E2EBFA;\n",
              "      --hover-fill-color: #174EA6;\n",
              "      --disabled-fill-color: #AAA;\n",
              "      --disabled-bg-color: #DDD;\n",
              "  }\n",
              "\n",
              "  [theme=dark] .colab-df-quickchart {\n",
              "      --bg-color: #3B4455;\n",
              "      --fill-color: #D2E3FC;\n",
              "      --hover-bg-color: #434B5C;\n",
              "      --hover-fill-color: #FFFFFF;\n",
              "      --disabled-bg-color: #3B4455;\n",
              "      --disabled-fill-color: #666;\n",
              "  }\n",
              "\n",
              "  .colab-df-quickchart {\n",
              "    background-color: var(--bg-color);\n",
              "    border: none;\n",
              "    border-radius: 50%;\n",
              "    cursor: pointer;\n",
              "    display: none;\n",
              "    fill: var(--fill-color);\n",
              "    height: 32px;\n",
              "    padding: 0;\n",
              "    width: 32px;\n",
              "  }\n",
              "\n",
              "  .colab-df-quickchart:hover {\n",
              "    background-color: var(--hover-bg-color);\n",
              "    box-shadow: 0 1px 2px rgba(60, 64, 67, 0.3), 0 1px 3px 1px rgba(60, 64, 67, 0.15);\n",
              "    fill: var(--button-hover-fill-color);\n",
              "  }\n",
              "\n",
              "  .colab-df-quickchart-complete:disabled,\n",
              "  .colab-df-quickchart-complete:disabled:hover {\n",
              "    background-color: var(--disabled-bg-color);\n",
              "    fill: var(--disabled-fill-color);\n",
              "    box-shadow: none;\n",
              "  }\n",
              "\n",
              "  .colab-df-spinner {\n",
              "    border: 2px solid var(--fill-color);\n",
              "    border-color: transparent;\n",
              "    border-bottom-color: var(--fill-color);\n",
              "    animation:\n",
              "      spin 1s steps(1) infinite;\n",
              "  }\n",
              "\n",
              "  @keyframes spin {\n",
              "    0% {\n",
              "      border-color: transparent;\n",
              "      border-bottom-color: var(--fill-color);\n",
              "      border-left-color: var(--fill-color);\n",
              "    }\n",
              "    20% {\n",
              "      border-color: transparent;\n",
              "      border-left-color: var(--fill-color);\n",
              "      border-top-color: var(--fill-color);\n",
              "    }\n",
              "    30% {\n",
              "      border-color: transparent;\n",
              "      border-left-color: var(--fill-color);\n",
              "      border-top-color: var(--fill-color);\n",
              "      border-right-color: var(--fill-color);\n",
              "    }\n",
              "    40% {\n",
              "      border-color: transparent;\n",
              "      border-right-color: var(--fill-color);\n",
              "      border-top-color: var(--fill-color);\n",
              "    }\n",
              "    60% {\n",
              "      border-color: transparent;\n",
              "      border-right-color: var(--fill-color);\n",
              "    }\n",
              "    80% {\n",
              "      border-color: transparent;\n",
              "      border-right-color: var(--fill-color);\n",
              "      border-bottom-color: var(--fill-color);\n",
              "    }\n",
              "    90% {\n",
              "      border-color: transparent;\n",
              "      border-bottom-color: var(--fill-color);\n",
              "    }\n",
              "  }\n",
              "</style>\n",
              "\n",
              "      <script>\n",
              "        async function quickchart(key) {\n",
              "          const quickchartButtonEl =\n",
              "            document.querySelector('#' + key + ' button');\n",
              "          quickchartButtonEl.disabled = true;  // To prevent multiple clicks.\n",
              "          quickchartButtonEl.classList.add('colab-df-spinner');\n",
              "          try {\n",
              "            const charts = await google.colab.kernel.invokeFunction(\n",
              "                'suggestCharts', [key], {});\n",
              "          } catch (error) {\n",
              "            console.error('Error during call to suggestCharts:', error);\n",
              "          }\n",
              "          quickchartButtonEl.classList.remove('colab-df-spinner');\n",
              "          quickchartButtonEl.classList.add('colab-df-quickchart-complete');\n",
              "        }\n",
              "        (() => {\n",
              "          let quickchartButtonEl =\n",
              "            document.querySelector('#df-35f16b30-a7ad-42b6-9186-cf845baecd36 button');\n",
              "          quickchartButtonEl.style.display =\n",
              "            google.colab.kernel.accessAllowed ? 'block' : 'none';\n",
              "        })();\n",
              "      </script>\n",
              "    </div>\n",
              "\n",
              "    </div>\n",
              "  </div>\n"
            ],
            "application/vnd.google.colaboratory.intrinsic+json": {
              "type": "dataframe",
              "variable_name": "X_train"
            }
          },
          "metadata": {},
          "execution_count": 44
        }
      ]
    },
    {
      "cell_type": "markdown",
      "source": [
        "## 10. Normalización/Estandarización\n",
        "Estandarizamos las variables numéricas para que tengan media 0 y desviación estándar 1. Esto es importante para modelos como Logistic Regression y KNN.  \n",
        "**Por qué**: Asegura que todas las variables contribuyan equitativamente al modelo.\n",
        "**Verificación previa**: Confirmamos que todas las columnas sean numéricas y no haya valores problemáticos.\n"
      ],
      "metadata": {
        "id": "9RHx1GmmsLIs"
      }
    },
    {
      "cell_type": "markdown",
      "source": [
        "# Verificar tipos de datos en X_train"
      ],
      "metadata": {
        "id": "QWsB0bhT19oS"
      }
    },
    {
      "cell_type": "code",
      "source": [
        "\n",
        "print(\"\\nTipos de datos en X_train:\")\n",
        "print(X_train.dtypes)\n"
      ],
      "metadata": {
        "colab": {
          "base_uri": "https://localhost:8080/"
        },
        "id": "wsYVS3BP2A8T",
        "outputId": "81cb23e7-a0f5-4477-8959-a80057e32eee"
      },
      "execution_count": 45,
      "outputs": [
        {
          "output_type": "stream",
          "name": "stdout",
          "text": [
            "\n",
            "Tipos de datos en X_train:\n",
            "edad                                  int64\n",
            "concentracion_hemoglobina           float64\n",
            "temperatura_ambiente                  int64\n",
            "valor_acido_urico                   float64\n",
            "valor_albumina                      float64\n",
            "valor_colesterol_hdl                  int64\n",
            "valor_colesterol_ldl                float64\n",
            "valor_colesterol_total                int64\n",
            "valor_creatina                      float64\n",
            "resultado_glucosa                   float64\n",
            "valor_insulina                      float64\n",
            "valor_trigliceridos                   int64\n",
            "resultado_glucosa_promedio            int64\n",
            "valor_hemoglobina_glucosilada       float64\n",
            "valor_ferritina                     float64\n",
            "valor_folato                        float64\n",
            "valor_homocisteina                  float64\n",
            "valor_proteinac_reactiva            float64\n",
            "valor_transferrina                  float64\n",
            "valor_vitamina_bdoce                float64\n",
            "valor_vitamina_d                    float64\n",
            "peso                                float64\n",
            "estatura                            float64\n",
            "medida_cintura                      float64\n",
            "segundamedicion_peso                float64\n",
            "segundamedicion_estatura            float64\n",
            "distancia_rodilla_talon             float64\n",
            "circunferencia_de_la_pantorrilla    float64\n",
            "segundamedicion_cintura             float64\n",
            "tension_arterial                      int64\n",
            "sueno_horas                           int64\n",
            "actividad_total                       int64\n",
            "sexo_encoded                          int64\n",
            "rango_edad_encoded                    int64\n",
            "IMC                                 float64\n",
            "ratio_hdl_ldl                       float64\n",
            "ratio_cintura_estatura              float64\n",
            "dtype: object\n"
          ]
        }
      ]
    },
    {
      "cell_type": "markdown",
      "source": [
        "\n",
        "# Verificar valores NaN o infinitos"
      ],
      "metadata": {
        "id": "wNspvr9E2D9n"
      }
    },
    {
      "cell_type": "code",
      "source": [
        "print(\"\\nValores NaN en X_train:\", X_train.isna().sum().sum())\n",
        "print(\"Valores NaN en X_test:\", X_test.isna().sum().sum())"
      ],
      "metadata": {
        "colab": {
          "base_uri": "https://localhost:8080/"
        },
        "id": "im6y0oWZ2GD6",
        "outputId": "2d9f1ad1-2c1a-42fa-f9b4-ff1ee5262262"
      },
      "execution_count": 46,
      "outputs": [
        {
          "output_type": "stream",
          "name": "stdout",
          "text": [
            "\n",
            "Valores NaN en X_train: 0\n",
            "Valores NaN en X_test: 0\n"
          ]
        }
      ]
    },
    {
      "cell_type": "markdown",
      "source": [
        "# Estandarización"
      ],
      "metadata": {
        "id": "YM1SPm6F2MOj"
      }
    },
    {
      "cell_type": "code",
      "source": [
        "scaler = StandardScaler()\n",
        "X_train_scaled = scaler.fit_transform(X_train)\n",
        "X_test_scaled = scaler.transform(X_test)\n"
      ],
      "metadata": {
        "id": "SpboS-5SsMjP"
      },
      "execution_count": 47,
      "outputs": []
    },
    {
      "cell_type": "markdown",
      "source": [
        "# Convertir a DataFrame para visualización"
      ],
      "metadata": {
        "id": "4L6gAcrusteT"
      }
    },
    {
      "cell_type": "code",
      "source": [
        "\n",
        "X_train_scaled = pd.DataFrame(X_train_scaled, columns=X_train.columns)\n",
        "X_test_scaled = pd.DataFrame(X_test_scaled, columns=X_train.columns)\n",
        "\n",
        "print(\"Datos escalados (entrenamiento):\")\n",
        "X_train_scaled.head()"
      ],
      "metadata": {
        "colab": {
          "base_uri": "https://localhost:8080/",
          "height": 273
        },
        "id": "B3ZHvq8ysvVN",
        "outputId": "8890958d-6c7a-4ff5-95eb-4848daf24a42"
      },
      "execution_count": 48,
      "outputs": [
        {
          "output_type": "stream",
          "name": "stdout",
          "text": [
            "Datos escalados (entrenamiento):\n"
          ]
        },
        {
          "output_type": "execute_result",
          "data": {
            "text/plain": [
              "       edad  concentracion_hemoglobina  temperatura_ambiente  \\\n",
              "0  0.526141                   0.054595              0.186386   \n",
              "1  0.872833                  -0.031688              0.186386   \n",
              "2  1.219525                   0.917422              0.186386   \n",
              "3 -0.167243                  -0.031688              0.186386   \n",
              "4  0.456803                  -0.204254             -2.003602   \n",
              "\n",
              "   valor_acido_urico  valor_albumina  valor_colesterol_hdl  \\\n",
              "0          -2.272794       -4.346409             -1.806285   \n",
              "1           0.015260        0.292936             -0.248757   \n",
              "2           0.015260        0.292936             -0.248757   \n",
              "3           0.015260        0.292936             -0.248757   \n",
              "4           0.617380       -0.369828              0.350293   \n",
              "\n",
              "   valor_colesterol_ldl  valor_colesterol_total  valor_creatina  \\\n",
              "0             -1.884653               -1.908770       -0.924657   \n",
              "1             -0.107038               -0.185927       -0.169727   \n",
              "2             -0.107038               -0.185927       -0.169727   \n",
              "3             -0.107038               -0.185927       -0.169727   \n",
              "4              2.781586                2.191597        0.396471   \n",
              "\n",
              "   resultado_glucosa  ...  circunferencia_de_la_pantorrilla  \\\n",
              "0          -0.581495  ...                         -0.137877   \n",
              "1          -0.098099  ...                          0.271761   \n",
              "2          -0.098099  ...                         -0.089684   \n",
              "3          -0.098099  ...                         -0.137877   \n",
              "4          -0.014030  ...                         -0.137877   \n",
              "\n",
              "   segundamedicion_cintura  tension_arterial  sueno_horas  actividad_total  \\\n",
              "0                -0.500088          0.662964     0.301888        -0.306151   \n",
              "1                 1.847990          0.353006    -0.471514        -0.263664   \n",
              "2                 2.377410         -0.399749     0.301888        -0.058310   \n",
              "3                -0.500088         -0.399749     0.301888        -0.221177   \n",
              "4                -0.500088          0.840083    -0.858215         0.331155   \n",
              "\n",
              "   sexo_encoded  rango_edad_encoded       IMC  ratio_hdl_ldl  \\\n",
              "0     -0.797029            0.000000  0.761225      -0.261209   \n",
              "1     -0.797029            0.000000 -1.712759      -0.210236   \n",
              "2     -0.797029            1.140404 -1.712759      -0.210236   \n",
              "3      1.254659            0.000000  0.830406      -0.210236   \n",
              "4     -0.797029            0.000000  0.420117      -1.099822   \n",
              "\n",
              "   ratio_cintura_estatura  \n",
              "0                0.880399  \n",
              "1               -1.456163  \n",
              "2               -1.456163  \n",
              "3               -1.456163  \n",
              "4                0.759385  \n",
              "\n",
              "[5 rows x 37 columns]"
            ],
            "text/html": [
              "\n",
              "  <div id=\"df-52b9e03d-ecac-4125-84bb-068f506f9865\" class=\"colab-df-container\">\n",
              "    <div>\n",
              "<style scoped>\n",
              "    .dataframe tbody tr th:only-of-type {\n",
              "        vertical-align: middle;\n",
              "    }\n",
              "\n",
              "    .dataframe tbody tr th {\n",
              "        vertical-align: top;\n",
              "    }\n",
              "\n",
              "    .dataframe thead th {\n",
              "        text-align: right;\n",
              "    }\n",
              "</style>\n",
              "<table border=\"1\" class=\"dataframe\">\n",
              "  <thead>\n",
              "    <tr style=\"text-align: right;\">\n",
              "      <th></th>\n",
              "      <th>edad</th>\n",
              "      <th>concentracion_hemoglobina</th>\n",
              "      <th>temperatura_ambiente</th>\n",
              "      <th>valor_acido_urico</th>\n",
              "      <th>valor_albumina</th>\n",
              "      <th>valor_colesterol_hdl</th>\n",
              "      <th>valor_colesterol_ldl</th>\n",
              "      <th>valor_colesterol_total</th>\n",
              "      <th>valor_creatina</th>\n",
              "      <th>resultado_glucosa</th>\n",
              "      <th>...</th>\n",
              "      <th>circunferencia_de_la_pantorrilla</th>\n",
              "      <th>segundamedicion_cintura</th>\n",
              "      <th>tension_arterial</th>\n",
              "      <th>sueno_horas</th>\n",
              "      <th>actividad_total</th>\n",
              "      <th>sexo_encoded</th>\n",
              "      <th>rango_edad_encoded</th>\n",
              "      <th>IMC</th>\n",
              "      <th>ratio_hdl_ldl</th>\n",
              "      <th>ratio_cintura_estatura</th>\n",
              "    </tr>\n",
              "  </thead>\n",
              "  <tbody>\n",
              "    <tr>\n",
              "      <th>0</th>\n",
              "      <td>0.526141</td>\n",
              "      <td>0.054595</td>\n",
              "      <td>0.186386</td>\n",
              "      <td>-2.272794</td>\n",
              "      <td>-4.346409</td>\n",
              "      <td>-1.806285</td>\n",
              "      <td>-1.884653</td>\n",
              "      <td>-1.908770</td>\n",
              "      <td>-0.924657</td>\n",
              "      <td>-0.581495</td>\n",
              "      <td>...</td>\n",
              "      <td>-0.137877</td>\n",
              "      <td>-0.500088</td>\n",
              "      <td>0.662964</td>\n",
              "      <td>0.301888</td>\n",
              "      <td>-0.306151</td>\n",
              "      <td>-0.797029</td>\n",
              "      <td>0.000000</td>\n",
              "      <td>0.761225</td>\n",
              "      <td>-0.261209</td>\n",
              "      <td>0.880399</td>\n",
              "    </tr>\n",
              "    <tr>\n",
              "      <th>1</th>\n",
              "      <td>0.872833</td>\n",
              "      <td>-0.031688</td>\n",
              "      <td>0.186386</td>\n",
              "      <td>0.015260</td>\n",
              "      <td>0.292936</td>\n",
              "      <td>-0.248757</td>\n",
              "      <td>-0.107038</td>\n",
              "      <td>-0.185927</td>\n",
              "      <td>-0.169727</td>\n",
              "      <td>-0.098099</td>\n",
              "      <td>...</td>\n",
              "      <td>0.271761</td>\n",
              "      <td>1.847990</td>\n",
              "      <td>0.353006</td>\n",
              "      <td>-0.471514</td>\n",
              "      <td>-0.263664</td>\n",
              "      <td>-0.797029</td>\n",
              "      <td>0.000000</td>\n",
              "      <td>-1.712759</td>\n",
              "      <td>-0.210236</td>\n",
              "      <td>-1.456163</td>\n",
              "    </tr>\n",
              "    <tr>\n",
              "      <th>2</th>\n",
              "      <td>1.219525</td>\n",
              "      <td>0.917422</td>\n",
              "      <td>0.186386</td>\n",
              "      <td>0.015260</td>\n",
              "      <td>0.292936</td>\n",
              "      <td>-0.248757</td>\n",
              "      <td>-0.107038</td>\n",
              "      <td>-0.185927</td>\n",
              "      <td>-0.169727</td>\n",
              "      <td>-0.098099</td>\n",
              "      <td>...</td>\n",
              "      <td>-0.089684</td>\n",
              "      <td>2.377410</td>\n",
              "      <td>-0.399749</td>\n",
              "      <td>0.301888</td>\n",
              "      <td>-0.058310</td>\n",
              "      <td>-0.797029</td>\n",
              "      <td>1.140404</td>\n",
              "      <td>-1.712759</td>\n",
              "      <td>-0.210236</td>\n",
              "      <td>-1.456163</td>\n",
              "    </tr>\n",
              "    <tr>\n",
              "      <th>3</th>\n",
              "      <td>-0.167243</td>\n",
              "      <td>-0.031688</td>\n",
              "      <td>0.186386</td>\n",
              "      <td>0.015260</td>\n",
              "      <td>0.292936</td>\n",
              "      <td>-0.248757</td>\n",
              "      <td>-0.107038</td>\n",
              "      <td>-0.185927</td>\n",
              "      <td>-0.169727</td>\n",
              "      <td>-0.098099</td>\n",
              "      <td>...</td>\n",
              "      <td>-0.137877</td>\n",
              "      <td>-0.500088</td>\n",
              "      <td>-0.399749</td>\n",
              "      <td>0.301888</td>\n",
              "      <td>-0.221177</td>\n",
              "      <td>1.254659</td>\n",
              "      <td>0.000000</td>\n",
              "      <td>0.830406</td>\n",
              "      <td>-0.210236</td>\n",
              "      <td>-1.456163</td>\n",
              "    </tr>\n",
              "    <tr>\n",
              "      <th>4</th>\n",
              "      <td>0.456803</td>\n",
              "      <td>-0.204254</td>\n",
              "      <td>-2.003602</td>\n",
              "      <td>0.617380</td>\n",
              "      <td>-0.369828</td>\n",
              "      <td>0.350293</td>\n",
              "      <td>2.781586</td>\n",
              "      <td>2.191597</td>\n",
              "      <td>0.396471</td>\n",
              "      <td>-0.014030</td>\n",
              "      <td>...</td>\n",
              "      <td>-0.137877</td>\n",
              "      <td>-0.500088</td>\n",
              "      <td>0.840083</td>\n",
              "      <td>-0.858215</td>\n",
              "      <td>0.331155</td>\n",
              "      <td>-0.797029</td>\n",
              "      <td>0.000000</td>\n",
              "      <td>0.420117</td>\n",
              "      <td>-1.099822</td>\n",
              "      <td>0.759385</td>\n",
              "    </tr>\n",
              "  </tbody>\n",
              "</table>\n",
              "<p>5 rows × 37 columns</p>\n",
              "</div>\n",
              "    <div class=\"colab-df-buttons\">\n",
              "\n",
              "  <div class=\"colab-df-container\">\n",
              "    <button class=\"colab-df-convert\" onclick=\"convertToInteractive('df-52b9e03d-ecac-4125-84bb-068f506f9865')\"\n",
              "            title=\"Convert this dataframe to an interactive table.\"\n",
              "            style=\"display:none;\">\n",
              "\n",
              "  <svg xmlns=\"http://www.w3.org/2000/svg\" height=\"24px\" viewBox=\"0 -960 960 960\">\n",
              "    <path d=\"M120-120v-720h720v720H120Zm60-500h600v-160H180v160Zm220 220h160v-160H400v160Zm0 220h160v-160H400v160ZM180-400h160v-160H180v160Zm440 0h160v-160H620v160ZM180-180h160v-160H180v160Zm440 0h160v-160H620v160Z\"/>\n",
              "  </svg>\n",
              "    </button>\n",
              "\n",
              "  <style>\n",
              "    .colab-df-container {\n",
              "      display:flex;\n",
              "      gap: 12px;\n",
              "    }\n",
              "\n",
              "    .colab-df-convert {\n",
              "      background-color: #E8F0FE;\n",
              "      border: none;\n",
              "      border-radius: 50%;\n",
              "      cursor: pointer;\n",
              "      display: none;\n",
              "      fill: #1967D2;\n",
              "      height: 32px;\n",
              "      padding: 0 0 0 0;\n",
              "      width: 32px;\n",
              "    }\n",
              "\n",
              "    .colab-df-convert:hover {\n",
              "      background-color: #E2EBFA;\n",
              "      box-shadow: 0px 1px 2px rgba(60, 64, 67, 0.3), 0px 1px 3px 1px rgba(60, 64, 67, 0.15);\n",
              "      fill: #174EA6;\n",
              "    }\n",
              "\n",
              "    .colab-df-buttons div {\n",
              "      margin-bottom: 4px;\n",
              "    }\n",
              "\n",
              "    [theme=dark] .colab-df-convert {\n",
              "      background-color: #3B4455;\n",
              "      fill: #D2E3FC;\n",
              "    }\n",
              "\n",
              "    [theme=dark] .colab-df-convert:hover {\n",
              "      background-color: #434B5C;\n",
              "      box-shadow: 0px 1px 3px 1px rgba(0, 0, 0, 0.15);\n",
              "      filter: drop-shadow(0px 1px 2px rgba(0, 0, 0, 0.3));\n",
              "      fill: #FFFFFF;\n",
              "    }\n",
              "  </style>\n",
              "\n",
              "    <script>\n",
              "      const buttonEl =\n",
              "        document.querySelector('#df-52b9e03d-ecac-4125-84bb-068f506f9865 button.colab-df-convert');\n",
              "      buttonEl.style.display =\n",
              "        google.colab.kernel.accessAllowed ? 'block' : 'none';\n",
              "\n",
              "      async function convertToInteractive(key) {\n",
              "        const element = document.querySelector('#df-52b9e03d-ecac-4125-84bb-068f506f9865');\n",
              "        const dataTable =\n",
              "          await google.colab.kernel.invokeFunction('convertToInteractive',\n",
              "                                                    [key], {});\n",
              "        if (!dataTable) return;\n",
              "\n",
              "        const docLinkHtml = 'Like what you see? Visit the ' +\n",
              "          '<a target=\"_blank\" href=https://colab.research.google.com/notebooks/data_table.ipynb>data table notebook</a>'\n",
              "          + ' to learn more about interactive tables.';\n",
              "        element.innerHTML = '';\n",
              "        dataTable['output_type'] = 'display_data';\n",
              "        await google.colab.output.renderOutput(dataTable, element);\n",
              "        const docLink = document.createElement('div');\n",
              "        docLink.innerHTML = docLinkHtml;\n",
              "        element.appendChild(docLink);\n",
              "      }\n",
              "    </script>\n",
              "  </div>\n",
              "\n",
              "\n",
              "    <div id=\"df-74d71dbe-00b4-4fba-85ca-c43bd8ef8cc6\">\n",
              "      <button class=\"colab-df-quickchart\" onclick=\"quickchart('df-74d71dbe-00b4-4fba-85ca-c43bd8ef8cc6')\"\n",
              "                title=\"Suggest charts\"\n",
              "                style=\"display:none;\">\n",
              "\n",
              "<svg xmlns=\"http://www.w3.org/2000/svg\" height=\"24px\"viewBox=\"0 0 24 24\"\n",
              "     width=\"24px\">\n",
              "    <g>\n",
              "        <path d=\"M19 3H5c-1.1 0-2 .9-2 2v14c0 1.1.9 2 2 2h14c1.1 0 2-.9 2-2V5c0-1.1-.9-2-2-2zM9 17H7v-7h2v7zm4 0h-2V7h2v10zm4 0h-2v-4h2v4z\"/>\n",
              "    </g>\n",
              "</svg>\n",
              "      </button>\n",
              "\n",
              "<style>\n",
              "  .colab-df-quickchart {\n",
              "      --bg-color: #E8F0FE;\n",
              "      --fill-color: #1967D2;\n",
              "      --hover-bg-color: #E2EBFA;\n",
              "      --hover-fill-color: #174EA6;\n",
              "      --disabled-fill-color: #AAA;\n",
              "      --disabled-bg-color: #DDD;\n",
              "  }\n",
              "\n",
              "  [theme=dark] .colab-df-quickchart {\n",
              "      --bg-color: #3B4455;\n",
              "      --fill-color: #D2E3FC;\n",
              "      --hover-bg-color: #434B5C;\n",
              "      --hover-fill-color: #FFFFFF;\n",
              "      --disabled-bg-color: #3B4455;\n",
              "      --disabled-fill-color: #666;\n",
              "  }\n",
              "\n",
              "  .colab-df-quickchart {\n",
              "    background-color: var(--bg-color);\n",
              "    border: none;\n",
              "    border-radius: 50%;\n",
              "    cursor: pointer;\n",
              "    display: none;\n",
              "    fill: var(--fill-color);\n",
              "    height: 32px;\n",
              "    padding: 0;\n",
              "    width: 32px;\n",
              "  }\n",
              "\n",
              "  .colab-df-quickchart:hover {\n",
              "    background-color: var(--hover-bg-color);\n",
              "    box-shadow: 0 1px 2px rgba(60, 64, 67, 0.3), 0 1px 3px 1px rgba(60, 64, 67, 0.15);\n",
              "    fill: var(--button-hover-fill-color);\n",
              "  }\n",
              "\n",
              "  .colab-df-quickchart-complete:disabled,\n",
              "  .colab-df-quickchart-complete:disabled:hover {\n",
              "    background-color: var(--disabled-bg-color);\n",
              "    fill: var(--disabled-fill-color);\n",
              "    box-shadow: none;\n",
              "  }\n",
              "\n",
              "  .colab-df-spinner {\n",
              "    border: 2px solid var(--fill-color);\n",
              "    border-color: transparent;\n",
              "    border-bottom-color: var(--fill-color);\n",
              "    animation:\n",
              "      spin 1s steps(1) infinite;\n",
              "  }\n",
              "\n",
              "  @keyframes spin {\n",
              "    0% {\n",
              "      border-color: transparent;\n",
              "      border-bottom-color: var(--fill-color);\n",
              "      border-left-color: var(--fill-color);\n",
              "    }\n",
              "    20% {\n",
              "      border-color: transparent;\n",
              "      border-left-color: var(--fill-color);\n",
              "      border-top-color: var(--fill-color);\n",
              "    }\n",
              "    30% {\n",
              "      border-color: transparent;\n",
              "      border-left-color: var(--fill-color);\n",
              "      border-top-color: var(--fill-color);\n",
              "      border-right-color: var(--fill-color);\n",
              "    }\n",
              "    40% {\n",
              "      border-color: transparent;\n",
              "      border-right-color: var(--fill-color);\n",
              "      border-top-color: var(--fill-color);\n",
              "    }\n",
              "    60% {\n",
              "      border-color: transparent;\n",
              "      border-right-color: var(--fill-color);\n",
              "    }\n",
              "    80% {\n",
              "      border-color: transparent;\n",
              "      border-right-color: var(--fill-color);\n",
              "      border-bottom-color: var(--fill-color);\n",
              "    }\n",
              "    90% {\n",
              "      border-color: transparent;\n",
              "      border-bottom-color: var(--fill-color);\n",
              "    }\n",
              "  }\n",
              "</style>\n",
              "\n",
              "      <script>\n",
              "        async function quickchart(key) {\n",
              "          const quickchartButtonEl =\n",
              "            document.querySelector('#' + key + ' button');\n",
              "          quickchartButtonEl.disabled = true;  // To prevent multiple clicks.\n",
              "          quickchartButtonEl.classList.add('colab-df-spinner');\n",
              "          try {\n",
              "            const charts = await google.colab.kernel.invokeFunction(\n",
              "                'suggestCharts', [key], {});\n",
              "          } catch (error) {\n",
              "            console.error('Error during call to suggestCharts:', error);\n",
              "          }\n",
              "          quickchartButtonEl.classList.remove('colab-df-spinner');\n",
              "          quickchartButtonEl.classList.add('colab-df-quickchart-complete');\n",
              "        }\n",
              "        (() => {\n",
              "          let quickchartButtonEl =\n",
              "            document.querySelector('#df-74d71dbe-00b4-4fba-85ca-c43bd8ef8cc6 button');\n",
              "          quickchartButtonEl.style.display =\n",
              "            google.colab.kernel.accessAllowed ? 'block' : 'none';\n",
              "        })();\n",
              "      </script>\n",
              "    </div>\n",
              "\n",
              "    </div>\n",
              "  </div>\n"
            ],
            "application/vnd.google.colaboratory.intrinsic+json": {
              "type": "dataframe",
              "variable_name": "X_train_scaled"
            }
          },
          "metadata": {},
          "execution_count": 48
        }
      ]
    },
    {
      "cell_type": "markdown",
      "source": [
        "## 11. Entrenamiento de Modelos\n",
        "Entrenamos tres modelos simples y fáciles de interpretar:  \n",
        "- **Regresión Logística**: Predice la probabilidad de riesgo de hipertensión.  \n",
        "- **Árbol de Decisión**: Divide los datos en reglas simples, como un diagrama de flujo.  \n",
        "- **K-Vecinos Cercanos (KNN)**: Clasifica según pacientes similares.  \n",
        "**Por qué**: Estos modelos son intuitivos y rápidos, ideales para analistas de datos.\n"
      ],
      "metadata": {
        "id": "2n6ABFp5s0XV"
      }
    },
    {
      "cell_type": "markdown",
      "source": [
        "# Modelo 1: Regresión Logística"
      ],
      "metadata": {
        "id": "bVeUytwVs3qU"
      }
    },
    {
      "cell_type": "code",
      "source": [
        "log_reg = LogisticRegression(random_state=42, max_iter=1000)\n",
        "log_reg.fit(X_train_scaled, y_train)\n",
        "y_pred_log_reg = log_reg.predict(X_test_scaled)\n"
      ],
      "metadata": {
        "id": "MiWtG-3us4Xs"
      },
      "execution_count": 52,
      "outputs": []
    },
    {
      "cell_type": "markdown",
      "source": [
        "# Modelo 2: Árbol de Decisión"
      ],
      "metadata": {
        "id": "nfjHLYOos8C-"
      }
    },
    {
      "cell_type": "code",
      "source": [
        "tree = DecisionTreeClassifier(random_state=42, max_depth=3)\n",
        "tree.fit(X_train_scaled, y_train)\n",
        "y_pred_tree = tree.predict(X_test_scaled)"
      ],
      "metadata": {
        "id": "mBOX5O61s-Xy"
      },
      "execution_count": 49,
      "outputs": []
    },
    {
      "cell_type": "markdown",
      "source": [
        "# Modelo 3: KNN"
      ],
      "metadata": {
        "id": "w2aD7cBStBbm"
      }
    },
    {
      "cell_type": "code",
      "source": [
        "knn = KNeighborsClassifier(n_neighbors=5)\n",
        "knn.fit(X_train_scaled, y_train)\n",
        "y_pred_knn = knn.predict(X_test_scaled)"
      ],
      "metadata": {
        "id": "b5-tMSmctCeQ"
      },
      "execution_count": 50,
      "outputs": []
    },
    {
      "cell_type": "markdown",
      "source": [
        "## 12. Evaluación y Selección del Mejor Modelo\n",
        "Evaluamos los modelos con dos métricas:  \n",
        "- **Accuracy**: Porcentaje de predicciones correctas.  \n",
        "- **F1-Score**: Combina precisión y sensibilidad, útil si las clases están desbalanceadas.  \n",
        "**Por qué**: Estas métricas son fáciles de entender y muestran qué tan bien predicen los modelos.\n"
      ],
      "metadata": {
        "id": "cGri9VCWtF60"
      }
    },
    {
      "cell_type": "markdown",
      "source": [
        "# Calcular métricas"
      ],
      "metadata": {
        "id": "3iGVjzaZtJtn"
      }
    },
    {
      "cell_type": "code",
      "source": [
        "acc_log_reg = accuracy_score(y_test, y_pred_log_reg)\n",
        "f1_log_reg = f1_score(y_test, y_pred_log_reg)\n",
        "\n",
        "acc_tree = accuracy_score(y_test, y_pred_tree)\n",
        "f1_tree = f1_score(y_test, y_pred_tree)\n",
        "\n",
        "acc_knn = accuracy_score(y_test, y_pred_knn)\n",
        "f1_knn = f1_score(y_test, y_pred_knn)"
      ],
      "metadata": {
        "id": "rZuf8nHctKcR"
      },
      "execution_count": 53,
      "outputs": []
    },
    {
      "cell_type": "markdown",
      "source": [
        "# Mostrar resultados"
      ],
      "metadata": {
        "id": "J2DSL09ttMfo"
      }
    },
    {
      "cell_type": "code",
      "source": [
        "print(\"Resultados de los modelos:\")\n",
        "print(f\"Regresión Logística - Accuracy: {acc_log_reg:.2f}, F1-Score: {f1_log_reg:.2f}\")\n",
        "print(f\"Árbol de Decisión - Accuracy: {acc_tree:.2f}, F1-Score: {f1_tree:.2f}\")\n",
        "print(f\"KNN - Accuracy: {acc_knn:.2f}, F1-Score: {f1_knn:.2f}\")\n"
      ],
      "metadata": {
        "colab": {
          "base_uri": "https://localhost:8080/"
        },
        "id": "KuJ6EzITtOVq",
        "outputId": "f80eb0eb-2d0b-47eb-ed88-0cf8445b541b"
      },
      "execution_count": 54,
      "outputs": [
        {
          "output_type": "stream",
          "name": "stdout",
          "text": [
            "Resultados de los modelos:\n",
            "Regresión Logística - Accuracy: 0.86, F1-Score: 0.90\n",
            "Árbol de Decisión - Accuracy: 0.98, F1-Score: 0.99\n",
            "KNN - Accuracy: 0.85, F1-Score: 0.88\n"
          ]
        }
      ]
    },
    {
      "cell_type": "markdown",
      "source": [
        "# Seleccionar el mejor modelo"
      ],
      "metadata": {
        "id": "bCgxLf6VtSjm"
      }
    },
    {
      "cell_type": "code",
      "source": [
        "results = {\n",
        "    'Regresión Logística': acc_log_reg,\n",
        "    'Árbol de Decisión': acc_tree,\n",
        "    'KNN': acc_knn\n",
        "}\n",
        "best_model = max(results, key=results.get)\n",
        "print(f\"\\nEl mejor modelo es: {best_model} con un accuracy de {results[best_model]:.2f}\")\n"
      ],
      "metadata": {
        "colab": {
          "base_uri": "https://localhost:8080/"
        },
        "id": "qVuqStMbtUtz",
        "outputId": "af44e283-2c48-4595-86d7-2da448b69e03"
      },
      "execution_count": 55,
      "outputs": [
        {
          "output_type": "stream",
          "name": "stdout",
          "text": [
            "\n",
            "El mejor modelo es: Árbol de Decisión con un accuracy de 0.98\n"
          ]
        }
      ]
    },
    {
      "cell_type": "markdown",
      "source": [
        "# Reporte detallado del mejor modelo"
      ],
      "metadata": {
        "id": "Hiq9HRrAtWbm"
      }
    },
    {
      "cell_type": "code",
      "source": [
        "if best_model == 'Regresión Logística':\n",
        "    print(\"\\nReporte detallado del mejor modelo (Regresión Logística):\")\n",
        "    print(classification_report(y_test, y_pred_log_reg, target_names=le_riesgo.classes_))\n",
        "elif best_model == 'Árbol de Decisión':\n",
        "    print(\"\\nReporte detallado del mejor modelo (Árbol de Decisión):\")\n",
        "    print(classification_report(y_test, y_pred_tree, target_names=le_riesgo.classes_))\n",
        "else:\n",
        "    print(\"\\nReporte detallado del mejor modelo (KNN):\")\n",
        "    print(classification_report(y_test, y_pred_knn, target_names=le_riesgo.classes_))\n"
      ],
      "metadata": {
        "colab": {
          "base_uri": "https://localhost:8080/"
        },
        "id": "BiHgSDmVtYPq",
        "outputId": "03ef16b1-0bab-491d-c8d6-71155530e05d"
      },
      "execution_count": 56,
      "outputs": [
        {
          "output_type": "stream",
          "name": "stdout",
          "text": [
            "\n",
            "Reporte detallado del mejor modelo (Árbol de Decisión):\n",
            "              precision    recall  f1-score   support\n",
            "\n",
            "          no       0.98      0.98      0.98       310\n",
            "         yes       0.99      0.99      0.99       563\n",
            "\n",
            "    accuracy                           0.98       873\n",
            "   macro avg       0.98      0.98      0.98       873\n",
            "weighted avg       0.98      0.98      0.98       873\n",
            "\n"
          ]
        }
      ]
    },
    {
      "cell_type": "markdown",
      "source": [
        "## 13. Visualización\n",
        "Mostramos una **matriz de confusión** del mejor modelo para visualizar los aciertos y errores.  \n",
        "**Por qué**: Ayuda a entender visualmente cómo el modelo clasifica los pacientes.\n"
      ],
      "metadata": {
        "id": "j18vn8pota8G"
      }
    },
    {
      "cell_type": "markdown",
      "source": [
        "# Seleccionar predicciones del mejor modelo"
      ],
      "metadata": {
        "id": "oJ-xfbS6tdLd"
      }
    },
    {
      "cell_type": "code",
      "source": [
        "if best_model == 'Regresión Logística':\n",
        "    y_pred_best = y_pred_log_reg\n",
        "elif best_model == 'Árbol de Decisión':\n",
        "    y_pred_best = y_pred_tree\n",
        "else:\n",
        "    y_pred_best = y_pred_knn\n"
      ],
      "metadata": {
        "id": "Q5mXLEfnte2k"
      },
      "execution_count": 57,
      "outputs": []
    },
    {
      "cell_type": "markdown",
      "source": [
        "# Matriz de confusión"
      ],
      "metadata": {
        "id": "2ipBUQHRtggd"
      }
    },
    {
      "cell_type": "code",
      "source": [
        "cm = confusion_matrix(y_test, y_pred_best)\n",
        "plt.figure(figsize=(8, 6))\n",
        "sns.heatmap(cm, annot=True, fmt='d', cmap='Blues', xticklabels=le_riesgo.classes_, yticklabels=le_riesgo.classes_)\n",
        "plt.title(f'Matriz de Confusión - {best_model}')\n",
        "plt.xlabel('Predicho')\n",
        "plt.ylabel('Real')\n",
        "plt.show()\n"
      ],
      "metadata": {
        "colab": {
          "base_uri": "https://localhost:8080/",
          "height": 573
        },
        "id": "tpg4ggbCthol",
        "outputId": "f3c7073a-a319-4886-8bf0-37d06c314d83"
      },
      "execution_count": 58,
      "outputs": [
        {
          "output_type": "display_data",
          "data": {
            "text/plain": [
              "<Figure size 800x600 with 2 Axes>"
            ],
            "image/png": "[encoded data removed]"
          },
          "metadata": {}
        }
      ]
    },
    {
      "cell_type": "markdown",
      "source": [
        "## 14. Validación de la Hipótesis\n",
        "Analizamos el riesgo de hipertensión por rango de edad para validar la hipótesis.  \n",
        "**Por qué**: Queremos confirmar si los rangos de edad productiva (21-40 y 41-60) tienen mayor riesgo.\n"
      ],
      "metadata": {
        "id": "T2owjH2AtkYM"
      }
    },
    {
      "cell_type": "markdown",
      "source": [
        "# Calcular proporción de riesgo por rango de edad"
      ],
      "metadata": {
        "id": "wvNGkC4rtmPS"
      }
    },
    {
      "cell_type": "code",
      "source": [
        "riesgo_por_edad = data_filtered.groupby('rango_edad')['riesgo_hipertension'].value_counts(normalize=True).unstack()\n",
        "print(\"Proporción de riesgo de hipertensión por rango de edad:\")\n",
        "print(riesgo_por_edad)"
      ],
      "metadata": {
        "colab": {
          "base_uri": "https://localhost:8080/"
        },
        "id": "lwp14oc7toG9",
        "outputId": "25b501c1-e788-45a8-9080-944c78a8a79c"
      },
      "execution_count": 59,
      "outputs": [
        {
          "output_type": "stream",
          "name": "stdout",
          "text": [
            "Proporción de riesgo de hipertensión por rango de edad:\n",
            "riesgo_hipertension        no       yes\n",
            "rango_edad                             \n",
            "21_40                0.295385  0.704615\n",
            "41_60                0.200289  0.799711\n",
            "61_80                0.781775  0.218225\n",
            "mayor_a_80           0.846154  0.153846\n",
            "menor_de_20          0.572581  0.427419\n"
          ]
        }
      ]
    },
    {
      "cell_type": "markdown",
      "source": [
        "# Visualización"
      ],
      "metadata": {
        "id": "KBOsiVQhtqBg"
      }
    },
    {
      "cell_type": "code",
      "source": [
        "riesgo_por_edad.plot(kind='bar', stacked=True, figsize=(10, 6))\n",
        "plt.title('Proporción de Riesgo de Hipertensión por Rango de Edad')\n",
        "plt.xlabel('Rango de Edad')\n",
        "plt.ylabel('Proporción')\n",
        "plt.legend(title='Riesgo Hipertensión')\n",
        "plt.show()"
      ],
      "metadata": {
        "colab": {
          "base_uri": "https://localhost:8080/",
          "height": 662
        },
        "id": "8MvuN2cXtsqj",
        "outputId": "11affd30-582a-44cd-ce06-6b3ddceaeacb"
      },
      "execution_count": 60,
      "outputs": [
        {
          "output_type": "display_data",
          "data": {
            "text/plain": [
              "<Figure size 1000x600 with 1 Axes>"
            ],
            "image/png": "[encoded data removed]"
          },
          "metadata": {}
        }
      ]
    },
    {
      "cell_type": "markdown",
      "source": [
        "## 15. Conclusión\n",
        "- Modelamos el riesgo de hipertensión como un problema de **clasificación supervisada**.  \n",
        "- Creamos nuevas features (IMC, ratios de colesterol y cintura/estatura) para mejorar las predicciones.  \n",
        "- Estandarizamos las variables para asegurar un buen desempeño de los modelos.  \n",
        "- Entrenamos tres modelos simples: Regresión Logística, Árbol de Decisión y KNN.  \n",
        "- El mejor modelo es **Árbol de Decisión** con un accuracy de **0.983963344788087**.  \n",
        "- Respecto a la hipótesis, observamos que los rangos de edad productiva (21-40 y 41-60)"
      ],
      "metadata": {
        "id": "8MHWc5fAttea"
      }
    },
    {
      "cell_type": "code",
      "source": [
        "\n",
        "print(\"El mejor modelo es:\")\n",
        "print(best_model)"
      ],
      "metadata": {
        "colab": {
          "base_uri": "https://localhost:8080/"
        },
        "id": "7lZk0IYWHLvu",
        "outputId": "4a605c87-363e-437d-d563-3bb56559e39c"
      },
      "execution_count": 62,
      "outputs": [
        {
          "output_type": "stream",
          "name": "stdout",
          "text": [
            "El mejor modelo es:\n",
            "Árbol de Decisión\n"
          ]
        }
      ]
    },
    {
      "cell_type": "code",
      "source": [
        "print(\"Accuracy:\")\n",
        "print(results[best_model])"
      ],
      "metadata": {
        "colab": {
          "base_uri": "https://localhost:8080/"
        },
        "id": "jsq0SQXcHmqB",
        "outputId": "3539f5b3-ec9b-4b4c-fd58-9f48d02e37f5"
      },
      "execution_count": 64,
      "outputs": [
        {
          "output_type": "stream",
          "name": "stdout",
          "text": [
            "Accuracy:\n",
            "0.983963344788087\n"
          ]
        }
      ]
    }
  ]
}