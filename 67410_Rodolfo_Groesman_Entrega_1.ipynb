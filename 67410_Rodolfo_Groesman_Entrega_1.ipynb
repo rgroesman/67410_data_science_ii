{
  "nbformat": 4,
  "nbformat_minor": 0,
  "metadata": {
    "colab": {
      "provenance": [],
      "include_colab_link": true
    },
    "kernelspec": {
      "name": "python3",
      "display_name": "Python 3"
    },
    "language_info": {
      "name": "python"
    }
  },
  "cells": [
    {
      "cell_type": "markdown",
      "metadata": {
        "id": "view-in-github",
        "colab_type": "text"
      },
      "source": [
        "<a href=\"https://colab.research.google.com/github/rgroesman/67410_data_science_ii/blob/main/67410_Rodolfo_Groesman_Entrega_1.ipynb\" target=\"_parent\"><img src=\"https://colab.research.google.com/assets/colab-badge.svg\" alt=\"Open In Colab\"/></a>"
      ]
    },
    {
      "cell_type": "markdown",
      "source": [
        "# PROYECTO FINAL\n",
        "#### Primera entrega - 10/06/2025"
      ],
      "metadata": {
        "id": "3DRtufeS0__M"
      }
    },
    {
      "cell_type": "markdown",
      "source": [
        "## 1. Introducción:\n",
        "Desde hace más de 25 años la Secretaría de Salud inició un esfuerzo sistemático por generar un conjunto de datos fidedignos que permitieran conocer las condiciones de salud de la población y sus tendencias, así como la utilización y percepción sobre los servicios de salud.\n",
        "En esta ocasión el gobierno pone a disposición un dataset con datos de la Encuesta Nacional de Salud y Nutricion (ENSANUT) 2022.\n",
        "\n",
        "\n",
        "## 2. Descripción temática de los datos:\n",
        "El conjunto de datos incluye información biométrica y medidas asociadas con la salud de pacientes en México, proporcionando un análisis detallado de variables como sexo, edad, concentración de hemoglobina, temperatura ambiente, valores de ácido úrico, albúmina, colesterol (HDL, LDL, total), creatinina, resultado de glucosa, insulina, proteína C reactiva, triglicéridos, glucosa promedio, hemoglobina glucosilada, ferritina, folato, homocisteína, transferrina, vitamina B12, vitamina D, peso, estatura, medida de cintura, entre otros.\n",
        "La columna final, \"riesgo_hipertension\" (hipertensión arterial), indica si el paciente está en riesgo de desarrollar hipertensión, siendo el valor \"1\" para aquellos en riesgo y \"0\" para los que no lo están. Este conjunto de datos puede ser valioso para la identificación de factores de riesgo y patrones asociados con la hipertensión arterial en la población estudiada.\n",
        "\n",
        "## 3. Alcance:\n",
        "Analizar los datos provistos a través de gráficos indicando variables estadísticas estándares que identifiquen la veracidad o no de la hipótesis a presentar.\n",
        "\n",
        "## 4. Hipótesis:\n",
        "**El objetivo principal es la segmentación de pacientes analizados según su hipertensión arterial por edad dentro del territorio mexicano. En base a su clasificación según el \"riesgo_hipertension\" calculado, definir rangos de edad, y sobre ellos trabajar, podrás observarse que, dentro del rango de edad en donde la productividad de un ser humano dentro del ámbito laboral es mayor, mayor es el riesgo de poseer hipertensión arterial.**\n",
        "---\n",
        "\n"
      ],
      "metadata": {
        "id": "6tfMP-xJ1KLd"
      }
    },
    {
      "cell_type": "markdown",
      "source": [
        "## 5. Contexto Analítico:\n",
        "\n"
      ],
      "metadata": {
        "id": "xGjhb42-3ZyF"
      }
    },
    {
      "cell_type": "code",
      "source": [
        "import pandas as pd\n",
        "import matplotlib.pyplot as plt\n",
        "import io\n",
        "import requests\n",
        "import seaborn as sns\n",
        "\n",
        "# Configuraciones opcionales para que los gráficos\n",
        "%matplotlib inline\n",
        "sns.set(style=\"whitegrid\", palette=\"deep\")"
      ],
      "metadata": {
        "id": "cMw-t15-3sAZ"
      },
      "execution_count": 1,
      "outputs": []
    },
    {
      "cell_type": "code",
      "source": [
        "# Tomar archivo CSV base \"Hipertensión Arterial Mexico\" desde un raw en GitHub de mi repositorio público\n",
        "url = \"https://raw.githubusercontent.com/rgroesman/67410_data_science_ii/refs/heads/main/Hipertension_Arterial_Mexico_RAW_FILE_1.csv\"\n",
        "response = requests.get(url)\n",
        "content = response.content\n",
        "\n",
        "# Cargar el archivo CSV en un DataFrame (de Panda)\n",
        "data_base = pd.read_csv(url, sep=';')\n",
        "\n",
        "# Eliminar una columna por que no tiene utilidad\n",
        "data = data_base.drop('FOLIO_I', axis=1)\n"
      ],
      "metadata": {
        "id": "MngmcPgSCGOC"
      },
      "execution_count": 2,
      "outputs": []
    },
    {
      "cell_type": "markdown",
      "source": [
        "## 6. Exploración de datos (EDA)"
      ],
      "metadata": {
        "id": "XbbQX49WDDIY"
      }
    },
    {
      "cell_type": "markdown",
      "source": [
        "### a. Primera visualización de los datos"
      ],
      "metadata": {
        "id": "-Ok6akMsDfFb"
      }
    },
    {
      "cell_type": "code",
      "source": [
        "# Mostrar la data por consola\n",
        "print(\"Data por consola:\")\n",
        "print(data)"
      ],
      "metadata": {
        "colab": {
          "base_uri": "https://localhost:8080/"
        },
        "id": "k99gP3bbDRmK",
        "outputId": "4283c388-a081-4c1d-a638-158a694a2de5"
      },
      "execution_count": 3,
      "outputs": [
        {
          "output_type": "stream",
          "name": "stdout",
          "text": [
            "Data por consola:\n",
            "     sexo  edad  concentracion_hemoglobina  temperatura_ambiente  \\\n",
            "0       f    41                       14.2                    22   \n",
            "1       f    65                       14.1                     9   \n",
            "2       f    68                       14.2                    22   \n",
            "3       m    35                       15.7                    11   \n",
            "4       f    65                       12.7                     7   \n",
            "...   ...   ...                        ...                   ...   \n",
            "4358    f    62                       14.2                    22   \n",
            "4359    m    39                       14.2                    22   \n",
            "4360    f    69                       15.9                    11   \n",
            "4361    m    67                       17.6                    14   \n",
            "4362    f    56                       14.2                    22   \n",
            "\n",
            "      valor_acido_urico  valor_albumina  valor_colesterol_hdl  \\\n",
            "0                   4.8             4.0                    34   \n",
            "1                   4.4             3.8                    73   \n",
            "2                   4.8             4.0                    34   \n",
            "3                   6.5             4.1                    49   \n",
            "4                   4.2             4.2                    41   \n",
            "...                 ...             ...                   ...   \n",
            "4358                4.8             4.0                    34   \n",
            "4359                4.8             4.0                    34   \n",
            "4360                2.9             1.9                    21   \n",
            "4361                5.5             4.0                    44   \n",
            "4362                4.8             4.0                    34   \n",
            "\n",
            "      valor_colesterol_ldl  valor_colesterol_total  valor_creatina  ...  \\\n",
            "0                     86.0                     139            0.58  ...   \n",
            "1                    130.0                     252            0.62  ...   \n",
            "2                     86.0                     139            0.58  ...   \n",
            "3                    107.0                     203            0.91  ...   \n",
            "4                     76.0                     145            0.71  ...   \n",
            "...                    ...                     ...             ...  ...   \n",
            "4358                  86.0                     139            0.58  ...   \n",
            "4359                  86.0                     139            0.58  ...   \n",
            "4360                  44.0                      74            0.34  ...   \n",
            "4361                  96.0                     171            0.80  ...   \n",
            "4362                  86.0                     139            0.58  ...   \n",
            "\n",
            "      segundamedicion_peso  segundamedicion_estatura  distancia_rodilla_talon  \\\n",
            "0                    64.70                     154.0                     48.5   \n",
            "1                    96.75                     152.2                     44.5   \n",
            "2                    68.70                     144.8                     42.3   \n",
            "3                    64.70                     154.0                     48.5   \n",
            "4                    97.15                     161.3                     49.6   \n",
            "...                    ...                       ...                      ...   \n",
            "4358                 64.25                     160.5                     51.1   \n",
            "4359                 64.70                     154.0                     48.5   \n",
            "4360                 71.20                     148.6                     47.2   \n",
            "4361                 68.20                     167.7                     51.5   \n",
            "4362                 64.70                     154.0                     48.5   \n",
            "\n",
            "      circunferencia_de_la_pantorrilla  segundamedicion_cintura  \\\n",
            "0                                 33.5                      0.0   \n",
            "1                                 41.1                    113.7   \n",
            "2                                 37.8                    103.7   \n",
            "3                                 33.5                      0.0   \n",
            "4                                 42.0                    118.9   \n",
            "...                                ...                      ...   \n",
            "4358                              34.5                     77.8   \n",
            "4359                              33.5                      0.0   \n",
            "4360                              38.0                      0.0   \n",
            "4361                              36.5                     96.4   \n",
            "4362                              33.5                      0.0   \n",
            "\n",
            "      tension_arterial  sueno_horas  actividad_total  riesgo_hipertension  \\\n",
            "0                  107            4              120                  yes   \n",
            "1                  104            2              240                   no   \n",
            "2                  105            1              480                   no   \n",
            "3                  117            5              275                  yes   \n",
            "4                  123            2              255                   no   \n",
            "...                ...          ...              ...                  ...   \n",
            "4358               125            4              280                   no   \n",
            "4359               130            4              780                   no   \n",
            "4360               147            4              300                   no   \n",
            "4361               108            2              240                   no   \n",
            "4362               100            4              300                   no   \n",
            "\n",
            "      rango_edad  \n",
            "0          41_60  \n",
            "1          61_80  \n",
            "2          61_80  \n",
            "3          21_40  \n",
            "4          61_80  \n",
            "...          ...  \n",
            "4358       61_80  \n",
            "4359       21_40  \n",
            "4360       61_80  \n",
            "4361       61_80  \n",
            "4362       41_60  \n",
            "\n",
            "[4363 rows x 35 columns]\n"
          ]
        }
      ]
    },
    {
      "cell_type": "code",
      "source": [
        "# Mostar primeros registros de la data\n",
        "data.head()"
      ],
      "metadata": {
        "colab": {
          "base_uri": "https://localhost:8080/",
          "height": 255
        },
        "id": "8ok3xXmACS8U",
        "outputId": "f58478fd-420f-42d2-b747-b4f2eb64a223"
      },
      "execution_count": 4,
      "outputs": [
        {
          "output_type": "execute_result",
          "data": {
            "text/plain": [
              "  sexo  edad  concentracion_hemoglobina  temperatura_ambiente  \\\n",
              "0    f    41                       14.2                    22   \n",
              "1    f    65                       14.1                     9   \n",
              "2    f    68                       14.2                    22   \n",
              "3    m    35                       15.7                    11   \n",
              "4    f    65                       12.7                     7   \n",
              "\n",
              "   valor_acido_urico  valor_albumina  valor_colesterol_hdl  \\\n",
              "0                4.8             4.0                    34   \n",
              "1                4.4             3.8                    73   \n",
              "2                4.8             4.0                    34   \n",
              "3                6.5             4.1                    49   \n",
              "4                4.2             4.2                    41   \n",
              "\n",
              "   valor_colesterol_ldl  valor_colesterol_total  valor_creatina  ...  \\\n",
              "0                  86.0                     139            0.58  ...   \n",
              "1                 130.0                     252            0.62  ...   \n",
              "2                  86.0                     139            0.58  ...   \n",
              "3                 107.0                     203            0.91  ...   \n",
              "4                  76.0                     145            0.71  ...   \n",
              "\n",
              "   segundamedicion_peso  segundamedicion_estatura  distancia_rodilla_talon  \\\n",
              "0                 64.70                     154.0                     48.5   \n",
              "1                 96.75                     152.2                     44.5   \n",
              "2                 68.70                     144.8                     42.3   \n",
              "3                 64.70                     154.0                     48.5   \n",
              "4                 97.15                     161.3                     49.6   \n",
              "\n",
              "   circunferencia_de_la_pantorrilla  segundamedicion_cintura  \\\n",
              "0                              33.5                      0.0   \n",
              "1                              41.1                    113.7   \n",
              "2                              37.8                    103.7   \n",
              "3                              33.5                      0.0   \n",
              "4                              42.0                    118.9   \n",
              "\n",
              "   tension_arterial  sueno_horas  actividad_total  riesgo_hipertension  \\\n",
              "0               107            4              120                  yes   \n",
              "1               104            2              240                   no   \n",
              "2               105            1              480                   no   \n",
              "3               117            5              275                  yes   \n",
              "4               123            2              255                   no   \n",
              "\n",
              "   rango_edad  \n",
              "0       41_60  \n",
              "1       61_80  \n",
              "2       61_80  \n",
              "3       21_40  \n",
              "4       61_80  \n",
              "\n",
              "[5 rows x 35 columns]"
            ],
            "text/html": [
              "\n",
              "  <div id=\"df-43f79c73-2b7e-465e-a82a-e351b16971da\" class=\"colab-df-container\">\n",
              "    <div>\n",
              "<style scoped>\n",
              "    .dataframe tbody tr th:only-of-type {\n",
              "        vertical-align: middle;\n",
              "    }\n",
              "\n",
              "    .dataframe tbody tr th {\n",
              "        vertical-align: top;\n",
              "    }\n",
              "\n",
              "    .dataframe thead th {\n",
              "        text-align: right;\n",
              "    }\n",
              "</style>\n",
              "<table border=\"1\" class=\"dataframe\">\n",
              "  <thead>\n",
              "    <tr style=\"text-align: right;\">\n",
              "      <th></th>\n",
              "      <th>sexo</th>\n",
              "      <th>edad</th>\n",
              "      <th>concentracion_hemoglobina</th>\n",
              "      <th>temperatura_ambiente</th>\n",
              "      <th>valor_acido_urico</th>\n",
              "      <th>valor_albumina</th>\n",
              "      <th>valor_colesterol_hdl</th>\n",
              "      <th>valor_colesterol_ldl</th>\n",
              "      <th>valor_colesterol_total</th>\n",
              "      <th>valor_creatina</th>\n",
              "      <th>...</th>\n",
              "      <th>segundamedicion_peso</th>\n",
              "      <th>segundamedicion_estatura</th>\n",
              "      <th>distancia_rodilla_talon</th>\n",
              "      <th>circunferencia_de_la_pantorrilla</th>\n",
              "      <th>segundamedicion_cintura</th>\n",
              "      <th>tension_arterial</th>\n",
              "      <th>sueno_horas</th>\n",
              "      <th>actividad_total</th>\n",
              "      <th>riesgo_hipertension</th>\n",
              "      <th>rango_edad</th>\n",
              "    </tr>\n",
              "  </thead>\n",
              "  <tbody>\n",
              "    <tr>\n",
              "      <th>0</th>\n",
              "      <td>f</td>\n",
              "      <td>41</td>\n",
              "      <td>14.2</td>\n",
              "      <td>22</td>\n",
              "      <td>4.8</td>\n",
              "      <td>4.0</td>\n",
              "      <td>34</td>\n",
              "      <td>86.0</td>\n",
              "      <td>139</td>\n",
              "      <td>0.58</td>\n",
              "      <td>...</td>\n",
              "      <td>64.70</td>\n",
              "      <td>154.0</td>\n",
              "      <td>48.5</td>\n",
              "      <td>33.5</td>\n",
              "      <td>0.0</td>\n",
              "      <td>107</td>\n",
              "      <td>4</td>\n",
              "      <td>120</td>\n",
              "      <td>yes</td>\n",
              "      <td>41_60</td>\n",
              "    </tr>\n",
              "    <tr>\n",
              "      <th>1</th>\n",
              "      <td>f</td>\n",
              "      <td>65</td>\n",
              "      <td>14.1</td>\n",
              "      <td>9</td>\n",
              "      <td>4.4</td>\n",
              "      <td>3.8</td>\n",
              "      <td>73</td>\n",
              "      <td>130.0</td>\n",
              "      <td>252</td>\n",
              "      <td>0.62</td>\n",
              "      <td>...</td>\n",
              "      <td>96.75</td>\n",
              "      <td>152.2</td>\n",
              "      <td>44.5</td>\n",
              "      <td>41.1</td>\n",
              "      <td>113.7</td>\n",
              "      <td>104</td>\n",
              "      <td>2</td>\n",
              "      <td>240</td>\n",
              "      <td>no</td>\n",
              "      <td>61_80</td>\n",
              "    </tr>\n",
              "    <tr>\n",
              "      <th>2</th>\n",
              "      <td>f</td>\n",
              "      <td>68</td>\n",
              "      <td>14.2</td>\n",
              "      <td>22</td>\n",
              "      <td>4.8</td>\n",
              "      <td>4.0</td>\n",
              "      <td>34</td>\n",
              "      <td>86.0</td>\n",
              "      <td>139</td>\n",
              "      <td>0.58</td>\n",
              "      <td>...</td>\n",
              "      <td>68.70</td>\n",
              "      <td>144.8</td>\n",
              "      <td>42.3</td>\n",
              "      <td>37.8</td>\n",
              "      <td>103.7</td>\n",
              "      <td>105</td>\n",
              "      <td>1</td>\n",
              "      <td>480</td>\n",
              "      <td>no</td>\n",
              "      <td>61_80</td>\n",
              "    </tr>\n",
              "    <tr>\n",
              "      <th>3</th>\n",
              "      <td>m</td>\n",
              "      <td>35</td>\n",
              "      <td>15.7</td>\n",
              "      <td>11</td>\n",
              "      <td>6.5</td>\n",
              "      <td>4.1</td>\n",
              "      <td>49</td>\n",
              "      <td>107.0</td>\n",
              "      <td>203</td>\n",
              "      <td>0.91</td>\n",
              "      <td>...</td>\n",
              "      <td>64.70</td>\n",
              "      <td>154.0</td>\n",
              "      <td>48.5</td>\n",
              "      <td>33.5</td>\n",
              "      <td>0.0</td>\n",
              "      <td>117</td>\n",
              "      <td>5</td>\n",
              "      <td>275</td>\n",
              "      <td>yes</td>\n",
              "      <td>21_40</td>\n",
              "    </tr>\n",
              "    <tr>\n",
              "      <th>4</th>\n",
              "      <td>f</td>\n",
              "      <td>65</td>\n",
              "      <td>12.7</td>\n",
              "      <td>7</td>\n",
              "      <td>4.2</td>\n",
              "      <td>4.2</td>\n",
              "      <td>41</td>\n",
              "      <td>76.0</td>\n",
              "      <td>145</td>\n",
              "      <td>0.71</td>\n",
              "      <td>...</td>\n",
              "      <td>97.15</td>\n",
              "      <td>161.3</td>\n",
              "      <td>49.6</td>\n",
              "      <td>42.0</td>\n",
              "      <td>118.9</td>\n",
              "      <td>123</td>\n",
              "      <td>2</td>\n",
              "      <td>255</td>\n",
              "      <td>no</td>\n",
              "      <td>61_80</td>\n",
              "    </tr>\n",
              "  </tbody>\n",
              "</table>\n",
              "<p>5 rows × 35 columns</p>\n",
              "</div>\n",
              "    <div class=\"colab-df-buttons\">\n",
              "\n",
              "  <div class=\"colab-df-container\">\n",
              "    <button class=\"colab-df-convert\" onclick=\"convertToInteractive('df-43f79c73-2b7e-465e-a82a-e351b16971da')\"\n",
              "            title=\"Convert this dataframe to an interactive table.\"\n",
              "            style=\"display:none;\">\n",
              "\n",
              "  <svg xmlns=\"http://www.w3.org/2000/svg\" height=\"24px\" viewBox=\"0 -960 960 960\">\n",
              "    <path d=\"M120-120v-720h720v720H120Zm60-500h600v-160H180v160Zm220 220h160v-160H400v160Zm0 220h160v-160H400v160ZM180-400h160v-160H180v160Zm440 0h160v-160H620v160ZM180-180h160v-160H180v160Zm440 0h160v-160H620v160Z\"/>\n",
              "  </svg>\n",
              "    </button>\n",
              "\n",
              "  <style>\n",
              "    .colab-df-container {\n",
              "      display:flex;\n",
              "      gap: 12px;\n",
              "    }\n",
              "\n",
              "    .colab-df-convert {\n",
              "      background-color: #E8F0FE;\n",
              "      border: none;\n",
              "      border-radius: 50%;\n",
              "      cursor: pointer;\n",
              "      display: none;\n",
              "      fill: #1967D2;\n",
              "      height: 32px;\n",
              "      padding: 0 0 0 0;\n",
              "      width: 32px;\n",
              "    }\n",
              "\n",
              "    .colab-df-convert:hover {\n",
              "      background-color: #E2EBFA;\n",
              "      box-shadow: 0px 1px 2px rgba(60, 64, 67, 0.3), 0px 1px 3px 1px rgba(60, 64, 67, 0.15);\n",
              "      fill: #174EA6;\n",
              "    }\n",
              "\n",
              "    .colab-df-buttons div {\n",
              "      margin-bottom: 4px;\n",
              "    }\n",
              "\n",
              "    [theme=dark] .colab-df-convert {\n",
              "      background-color: #3B4455;\n",
              "      fill: #D2E3FC;\n",
              "    }\n",
              "\n",
              "    [theme=dark] .colab-df-convert:hover {\n",
              "      background-color: #434B5C;\n",
              "      box-shadow: 0px 1px 3px 1px rgba(0, 0, 0, 0.15);\n",
              "      filter: drop-shadow(0px 1px 2px rgba(0, 0, 0, 0.3));\n",
              "      fill: #FFFFFF;\n",
              "    }\n",
              "  </style>\n",
              "\n",
              "    <script>\n",
              "      const buttonEl =\n",
              "        document.querySelector('#df-43f79c73-2b7e-465e-a82a-e351b16971da button.colab-df-convert');\n",
              "      buttonEl.style.display =\n",
              "        google.colab.kernel.accessAllowed ? 'block' : 'none';\n",
              "\n",
              "      async function convertToInteractive(key) {\n",
              "        const element = document.querySelector('#df-43f79c73-2b7e-465e-a82a-e351b16971da');\n",
              "        const dataTable =\n",
              "          await google.colab.kernel.invokeFunction('convertToInteractive',\n",
              "                                                    [key], {});\n",
              "        if (!dataTable) return;\n",
              "\n",
              "        const docLinkHtml = 'Like what you see? Visit the ' +\n",
              "          '<a target=\"_blank\" href=https://colab.research.google.com/notebooks/data_table.ipynb>data table notebook</a>'\n",
              "          + ' to learn more about interactive tables.';\n",
              "        element.innerHTML = '';\n",
              "        dataTable['output_type'] = 'display_data';\n",
              "        await google.colab.output.renderOutput(dataTable, element);\n",
              "        const docLink = document.createElement('div');\n",
              "        docLink.innerHTML = docLinkHtml;\n",
              "        element.appendChild(docLink);\n",
              "      }\n",
              "    </script>\n",
              "  </div>\n",
              "\n",
              "\n",
              "    <div id=\"df-ad51a218-6f9a-443c-8c94-4f4ff81a2eeb\">\n",
              "      <button class=\"colab-df-quickchart\" onclick=\"quickchart('df-ad51a218-6f9a-443c-8c94-4f4ff81a2eeb')\"\n",
              "                title=\"Suggest charts\"\n",
              "                style=\"display:none;\">\n",
              "\n",
              "<svg xmlns=\"http://www.w3.org/2000/svg\" height=\"24px\"viewBox=\"0 0 24 24\"\n",
              "     width=\"24px\">\n",
              "    <g>\n",
              "        <path d=\"M19 3H5c-1.1 0-2 .9-2 2v14c0 1.1.9 2 2 2h14c1.1 0 2-.9 2-2V5c0-1.1-.9-2-2-2zM9 17H7v-7h2v7zm4 0h-2V7h2v10zm4 0h-2v-4h2v4z\"/>\n",
              "    </g>\n",
              "</svg>\n",
              "      </button>\n",
              "\n",
              "<style>\n",
              "  .colab-df-quickchart {\n",
              "      --bg-color: #E8F0FE;\n",
              "      --fill-color: #1967D2;\n",
              "      --hover-bg-color: #E2EBFA;\n",
              "      --hover-fill-color: #174EA6;\n",
              "      --disabled-fill-color: #AAA;\n",
              "      --disabled-bg-color: #DDD;\n",
              "  }\n",
              "\n",
              "  [theme=dark] .colab-df-quickchart {\n",
              "      --bg-color: #3B4455;\n",
              "      --fill-color: #D2E3FC;\n",
              "      --hover-bg-color: #434B5C;\n",
              "      --hover-fill-color: #FFFFFF;\n",
              "      --disabled-bg-color: #3B4455;\n",
              "      --disabled-fill-color: #666;\n",
              "  }\n",
              "\n",
              "  .colab-df-quickchart {\n",
              "    background-color: var(--bg-color);\n",
              "    border: none;\n",
              "    border-radius: 50%;\n",
              "    cursor: pointer;\n",
              "    display: none;\n",
              "    fill: var(--fill-color);\n",
              "    height: 32px;\n",
              "    padding: 0;\n",
              "    width: 32px;\n",
              "  }\n",
              "\n",
              "  .colab-df-quickchart:hover {\n",
              "    background-color: var(--hover-bg-color);\n",
              "    box-shadow: 0 1px 2px rgba(60, 64, 67, 0.3), 0 1px 3px 1px rgba(60, 64, 67, 0.15);\n",
              "    fill: var(--button-hover-fill-color);\n",
              "  }\n",
              "\n",
              "  .colab-df-quickchart-complete:disabled,\n",
              "  .colab-df-quickchart-complete:disabled:hover {\n",
              "    background-color: var(--disabled-bg-color);\n",
              "    fill: var(--disabled-fill-color);\n",
              "    box-shadow: none;\n",
              "  }\n",
              "\n",
              "  .colab-df-spinner {\n",
              "    border: 2px solid var(--fill-color);\n",
              "    border-color: transparent;\n",
              "    border-bottom-color: var(--fill-color);\n",
              "    animation:\n",
              "      spin 1s steps(1) infinite;\n",
              "  }\n",
              "\n",
              "  @keyframes spin {\n",
              "    0% {\n",
              "      border-color: transparent;\n",
              "      border-bottom-color: var(--fill-color);\n",
              "      border-left-color: var(--fill-color);\n",
              "    }\n",
              "    20% {\n",
              "      border-color: transparent;\n",
              "      border-left-color: var(--fill-color);\n",
              "      border-top-color: var(--fill-color);\n",
              "    }\n",
              "    30% {\n",
              "      border-color: transparent;\n",
              "      border-left-color: var(--fill-color);\n",
              "      border-top-color: var(--fill-color);\n",
              "      border-right-color: var(--fill-color);\n",
              "    }\n",
              "    40% {\n",
              "      border-color: transparent;\n",
              "      border-right-color: var(--fill-color);\n",
              "      border-top-color: var(--fill-color);\n",
              "    }\n",
              "    60% {\n",
              "      border-color: transparent;\n",
              "      border-right-color: var(--fill-color);\n",
              "    }\n",
              "    80% {\n",
              "      border-color: transparent;\n",
              "      border-right-color: var(--fill-color);\n",
              "      border-bottom-color: var(--fill-color);\n",
              "    }\n",
              "    90% {\n",
              "      border-color: transparent;\n",
              "      border-bottom-color: var(--fill-color);\n",
              "    }\n",
              "  }\n",
              "</style>\n",
              "\n",
              "      <script>\n",
              "        async function quickchart(key) {\n",
              "          const quickchartButtonEl =\n",
              "            document.querySelector('#' + key + ' button');\n",
              "          quickchartButtonEl.disabled = true;  // To prevent multiple clicks.\n",
              "          quickchartButtonEl.classList.add('colab-df-spinner');\n",
              "          try {\n",
              "            const charts = await google.colab.kernel.invokeFunction(\n",
              "                'suggestCharts', [key], {});\n",
              "          } catch (error) {\n",
              "            console.error('Error during call to suggestCharts:', error);\n",
              "          }\n",
              "          quickchartButtonEl.classList.remove('colab-df-spinner');\n",
              "          quickchartButtonEl.classList.add('colab-df-quickchart-complete');\n",
              "        }\n",
              "        (() => {\n",
              "          let quickchartButtonEl =\n",
              "            document.querySelector('#df-ad51a218-6f9a-443c-8c94-4f4ff81a2eeb button');\n",
              "          quickchartButtonEl.style.display =\n",
              "            google.colab.kernel.accessAllowed ? 'block' : 'none';\n",
              "        })();\n",
              "      </script>\n",
              "    </div>\n",
              "\n",
              "    </div>\n",
              "  </div>\n"
            ],
            "application/vnd.google.colaboratory.intrinsic+json": {
              "type": "dataframe",
              "variable_name": "data"
            }
          },
          "metadata": {},
          "execution_count": 4
        }
      ]
    },
    {
      "cell_type": "code",
      "source": [
        "# Mostrar dimensiones disponibles de la data\n",
        "print(\"Dimensiones de la data:\", data.shape)\n",
        "forma = data.shape\n",
        "filas, columnas = forma"
      ],
      "metadata": {
        "colab": {
          "base_uri": "https://localhost:8080/"
        },
        "id": "LhvbGySrEA4I",
        "outputId": "89c58bf2-7163-443c-c68a-a21f31b57de9"
      },
      "execution_count": 5,
      "outputs": [
        {
          "output_type": "stream",
          "name": "stdout",
          "text": [
            "Dimensiones de la data: (4363, 35)\n"
          ]
        }
      ]
    },
    {
      "cell_type": "markdown",
      "source": [
        "Explicación: cuando nos referimos a \"Dimensiones de la data\" estamos indicando el resultado de una función (shape en este caso) apliacda al conjunto de datos cuyo resulta nos indica primero la cantidad de registros que posee los datos y, segundo, la cantidad de columnas que posee ese mismo conjunto de datos.\n",
        "Para nuestro caso contamos con:"
      ],
      "metadata": {
        "id": "03Rz1x-yFjqF"
      }
    },
    {
      "cell_type": "code",
      "source": [
        "# Mostrar las variables separadamente\n",
        "print(f\"Número de filas: {filas}\")\n",
        "print(f\"Número de columnas: {columnas}\")"
      ],
      "metadata": {
        "colab": {
          "base_uri": "https://localhost:8080/"
        },
        "id": "BwGiCr6aG2j8",
        "outputId": "958afa60-ac6e-4b1f-86b8-1ad3b573fb79"
      },
      "execution_count": 6,
      "outputs": [
        {
          "output_type": "stream",
          "name": "stdout",
          "text": [
            "Número de filas: 4363\n",
            "Número de columnas: 35\n"
          ]
        }
      ]
    },
    {
      "cell_type": "markdown",
      "source": [
        "### b. Análisis descriptivo"
      ],
      "metadata": {
        "id": "zQSOY873HURG"
      }
    },
    {
      "cell_type": "code",
      "source": [
        "# Mostrar tipos de datos disponibles del conjunto de datos\n",
        "print(\"Tipos de datos disponibles del conjunto de la datos:\")\n",
        "print(data.dtypes)\n",
        "\n"
      ],
      "metadata": {
        "colab": {
          "base_uri": "https://localhost:8080/"
        },
        "id": "cUcC1GiUEWr3",
        "outputId": "a628a644-9698-49be-f0a8-d21cd4c92218"
      },
      "execution_count": 7,
      "outputs": [
        {
          "output_type": "stream",
          "name": "stdout",
          "text": [
            "Tipos de datos disponibles del conjunto de la datos:\n",
            "sexo                                 object\n",
            "edad                                  int64\n",
            "concentracion_hemoglobina           float64\n",
            "temperatura_ambiente                  int64\n",
            "valor_acido_urico                   float64\n",
            "valor_albumina                      float64\n",
            "valor_colesterol_hdl                  int64\n",
            "valor_colesterol_ldl                float64\n",
            "valor_colesterol_total                int64\n",
            "valor_creatina                      float64\n",
            "resultado_glucosa                   float64\n",
            "valor_insulina                      float64\n",
            "valor_trigliceridos                   int64\n",
            "resultado_glucosa_promedio            int64\n",
            "valor_hemoglobina_glucosilada       float64\n",
            "valor_ferritina                     float64\n",
            "valor_folato                        float64\n",
            "valor_homocisteina                  float64\n",
            "valor_proteinac_reactiva            float64\n",
            "valor_transferrina                  float64\n",
            "valor_vitamina_bdoce                float64\n",
            "valor_vitamina_d                    float64\n",
            "peso                                float64\n",
            "estatura                            float64\n",
            "medida_cintura                      float64\n",
            "segundamedicion_peso                float64\n",
            "segundamedicion_estatura            float64\n",
            "distancia_rodilla_talon             float64\n",
            "circunferencia_de_la_pantorrilla    float64\n",
            "segundamedicion_cintura             float64\n",
            "tension_arterial                      int64\n",
            "sueno_horas                           int64\n",
            "actividad_total                       int64\n",
            "riesgo_hipertension                  object\n",
            "rango_edad                           object\n",
            "dtype: object\n"
          ]
        }
      ]
    },
    {
      "cell_type": "code",
      "source": [
        "# Estadísticas descriptivas para variables numéricas del conjunto de datos\n",
        "print(\"Estadísticas descriptivas para variables numéricas del conjunto de datos:\")\n",
        "print(data.describe())"
      ],
      "metadata": {
        "colab": {
          "base_uri": "https://localhost:8080/"
        },
        "id": "6hGhtsKPEoWU",
        "outputId": "5ec6e66c-962a-48de-b57b-862cfa72b7a5"
      },
      "execution_count": 8,
      "outputs": [
        {
          "output_type": "stream",
          "name": "stdout",
          "text": [
            "Estadísticas descriptivas para variables numéricas del conjunto de datos:\n",
            "              edad  concentracion_hemoglobina  temperatura_ambiente  \\\n",
            "count  4363.000000                4363.000000           4363.000000   \n",
            "mean     47.315609                  14.228581             21.385973   \n",
            "std      14.445572                   1.149723              3.165974   \n",
            "min       4.000000                   5.500000              2.000000   \n",
            "25%      36.000000                  14.200000             22.000000   \n",
            "50%      48.000000                  14.200000             22.000000   \n",
            "75%      58.000000                  14.200000             22.000000   \n",
            "max      93.000000                  19.900000             35.000000   \n",
            "\n",
            "       valor_acido_urico  valor_albumina  valor_colesterol_hdl  \\\n",
            "count        4363.000000     4363.000000           4363.000000   \n",
            "mean            4.787302        3.868966             36.030254   \n",
            "std             0.820317        0.450879              8.082762   \n",
            "min             0.200000        1.000000              9.000000   \n",
            "25%             4.800000        4.000000             34.000000   \n",
            "50%             4.800000        4.000000             34.000000   \n",
            "75%             4.800000        4.000000             34.000000   \n",
            "max            11.000000        5.300000            279.000000   \n",
            "\n",
            "       valor_colesterol_ldl  valor_colesterol_total  valor_creatina  \\\n",
            "count           4363.000000             4363.000000     4363.000000   \n",
            "mean              87.809489              144.138895        0.614573   \n",
            "std               17.530104               28.228483        0.200610   \n",
            "min               11.100000               40.000000        0.060000   \n",
            "25%               86.000000              139.000000        0.580000   \n",
            "50%               86.000000              139.000000        0.580000   \n",
            "75%               86.000000              139.000000        0.580000   \n",
            "max              303.000000              681.000000        8.270000   \n",
            "\n",
            "       resultado_glucosa  ...     estatura  medida_cintura  \\\n",
            "count        4363.000000  ...  4363.000000     4363.000000   \n",
            "mean           96.894660  ...   156.165437       68.425556   \n",
            "std            45.586604  ...    14.705331       46.557602   \n",
            "min            10.400000  ...     0.000000        0.000000   \n",
            "25%            92.000000  ...   151.000000        0.000000   \n",
            "50%            92.000000  ...   154.500000       90.100000   \n",
            "75%            92.000000  ...   162.900000      101.600000   \n",
            "max          2372.000000  ...   192.000000      189.300000   \n",
            "\n",
            "       segundamedicion_peso  segundamedicion_estatura  \\\n",
            "count           4363.000000               4363.000000   \n",
            "mean              65.789817                153.819940   \n",
            "std                7.447041                  7.854184   \n",
            "min                2.000000                  0.000000   \n",
            "25%               64.700000                154.000000   \n",
            "50%               64.700000                154.000000   \n",
            "75%               64.700000                154.000000   \n",
            "max              151.200000                182.600000   \n",
            "\n",
            "       distancia_rodilla_talon  circunferencia_de_la_pantorrilla  \\\n",
            "count              4363.000000                       4363.000000   \n",
            "mean                 48.456910                         34.061242   \n",
            "std                   3.488546                          4.029785   \n",
            "min                   0.000000                          0.000000   \n",
            "25%                  48.500000                         33.500000   \n",
            "50%                  48.500000                         33.500000   \n",
            "75%                  48.500000                         33.500000   \n",
            "max                  97.300000                        105.200000   \n",
            "\n",
            "       segundamedicion_cintura  tension_arterial  sueno_horas  actividad_total  \n",
            "count              4363.000000       4363.000000  4363.000000      4363.000000  \n",
            "mean                 19.986340        123.732065     3.239972       481.815265  \n",
            "std                  40.442427         22.608401     2.778287       673.702857  \n",
            "min                   0.000000          0.000000     1.000000        10.000000  \n",
            "25%                   0.000000        111.000000     2.000000       240.000000  \n",
            "50%                   0.000000        121.000000     3.000000       380.000000  \n",
            "75%                   0.000000        136.000000     4.000000       585.000000  \n",
            "max                 165.000000        200.000000    99.000000     17820.000000  \n",
            "\n",
            "[8 rows x 32 columns]\n"
          ]
        }
      ]
    },
    {
      "cell_type": "markdown",
      "source": [
        "#### Variables categóricas"
      ],
      "metadata": {
        "id": "Kn02kUjHR-ng"
      }
    },
    {
      "cell_type": "code",
      "source": [
        "# Obtener las columnas con tipo de dato 'object'\n",
        "categorical_cols_object = data.select_dtypes(include=['object']).columns.tolist()\n",
        "\n",
        "# Obtener las columnas con tipo de dato 'category'\n",
        "categorical_cols_category = data.select_dtypes(include=['category']).columns.tolist()\n",
        "\n",
        "# Combinar ambas listas para obtener todas las variables categóricas\n",
        "categorical_cols = categorical_cols_object + categorical_cols_category\n",
        "\n",
        "# Mostrar las variables categóricas por pantalla\n",
        "print(\"Variables categóricas:\")\n",
        "for col in categorical_cols:\n",
        "    print(f\"- {col}\")"
      ],
      "metadata": {
        "colab": {
          "base_uri": "https://localhost:8080/"
        },
        "id": "gVccIpyoSEhG",
        "outputId": "f34590a9-8cd9-4dd9-eccf-4d691c938fac"
      },
      "execution_count": 10,
      "outputs": [
        {
          "output_type": "stream",
          "name": "stdout",
          "text": [
            "Variables categóricas:\n",
            "- sexo\n",
            "- riesgo_hipertension\n",
            "- rango_edad\n"
          ]
        }
      ]
    },
    {
      "cell_type": "code",
      "source": [
        "# Frecuencias para variables categóricas\n",
        "print(\"Frecuencias para las variables categóricas:\")\n",
        "print(data['sexo'].value_counts())\n",
        "print(data['rango_edad'].value_counts())"
      ],
      "metadata": {
        "colab": {
          "base_uri": "https://localhost:8080/"
        },
        "id": "BXl_Q3iWxdtc",
        "outputId": "24c005a6-87cd-47dd-891b-c8ea9abfeb55"
      },
      "execution_count": 11,
      "outputs": [
        {
          "output_type": "stream",
          "name": "stdout",
          "text": [
            "Frecuencias para las variables categóricas:\n",
            "sexo\n",
            "f    2676\n",
            "m    1687\n",
            "Name: count, dtype: int64\n",
            "rango_edad\n",
            "41_60          2077\n",
            "21_40          1300\n",
            "61_80           834\n",
            "menor_de_20     124\n",
            "mayor_a_80       28\n",
            "Name: count, dtype: int64\n"
          ]
        }
      ]
    },
    {
      "cell_type": "markdown",
      "source": [
        "### c. Visualización de Datos"
      ],
      "metadata": {
        "id": "yCZ2j664S0fd"
      }
    },
    {
      "cell_type": "code",
      "source": [
        "# Histograma de la variable \"edad\"\n",
        "plt.figure(figsize=(10, 6))\n",
        "sns.histplot(data['edad'], bins=30, kde=True)\n",
        "plt.title('Distribución de Edades de los pacientes')\n",
        "plt.xlabel('Edad')\n",
        "plt.ylabel('Frecuencia')\n",
        "plt.show()"
      ],
      "metadata": {
        "colab": {
          "base_uri": "https://localhost:8080/",
          "height": 573
        },
        "id": "sJIzZ8sATMaG",
        "outputId": "aa64018c-8ce2-4edf-adb7-866a5da6b53e"
      },
      "execution_count": 12,
      "outputs": [
        {
          "output_type": "display_data",
          "data": {
            "text/plain": [
              "<Figure size 1000x600 with 1 Axes>"
            ],
            "image/png": "[encoded data removed]"
          },
          "metadata": {}
        }
      ]
    },
    {
      "cell_type": "code",
      "source": [
        "# Gráfico de barras para la variable 'rango_edad'\n",
        "plt.figure(figsize=(10, 6))\n",
        "sns.countplot(x='rango_edad', data=data)\n",
        "plt.title('Distribución del Rango de edades')\n",
        "plt.xlabel('Rango de Edad')\n",
        "plt.ylabel('Frecuencia')\n",
        "plt.show()"
      ],
      "metadata": {
        "colab": {
          "base_uri": "https://localhost:8080/",
          "height": 574
        },
        "id": "WLkRtnXEUJ6_",
        "outputId": "b0c6e638-0ddf-4b8c-c55d-370255c62bfe"
      },
      "execution_count": 13,
      "outputs": [
        {
          "output_type": "display_data",
          "data": {
            "text/plain": [
              "<Figure size 1000x600 with 1 Axes>"
            ],
            "image/png": "[encoded data removed]"
          },
          "metadata": {}
        }
      ]
    },
    {
      "cell_type": "code",
      "source": [
        "unique_sexo = data['sexo'].unique()\n",
        "\n",
        "print(unique_sexo)"
      ],
      "metadata": {
        "colab": {
          "base_uri": "https://localhost:8080/"
        },
        "id": "2IngTg5XsrEx",
        "outputId": "ed457dcb-f0e9-48d3-cdaf-7a7cd0c67480"
      },
      "execution_count": null,
      "outputs": [
        {
          "output_type": "stream",
          "name": "stdout",
          "text": [
            "['f' 'm']\n"
          ]
        }
      ]
    },
    {
      "cell_type": "code",
      "source": [
        "unique_rango_edad = data['rango_edad'].unique()\n",
        "\n",
        "print(unique_rango_edad)"
      ],
      "metadata": {
        "colab": {
          "base_uri": "https://localhost:8080/"
        },
        "id": "P6YG4Un4s3kc",
        "outputId": "5abc6fa3-f610-4cfd-b484-db04b1966038"
      },
      "execution_count": null,
      "outputs": [
        {
          "output_type": "stream",
          "name": "stdout",
          "text": [
            "['41_60' '61_80' '21_40' 'menor_de_20' 'mayor_a_80']\n"
          ]
        }
      ]
    },
    {
      "cell_type": "code",
      "source": [
        "unique_riesgo_hipertension = data['riesgo_hipertension'].unique()\n",
        "\n",
        "print(unique_riesgo_hipertension)"
      ],
      "metadata": {
        "colab": {
          "base_uri": "https://localhost:8080/"
        },
        "id": "S-vKigj-5i0U",
        "outputId": "68f7b12e-d85e-4ec1-eee1-d620d0cd4f53"
      },
      "execution_count": null,
      "outputs": [
        {
          "output_type": "stream",
          "name": "stdout",
          "text": [
            "['yes' 'no']\n"
          ]
        }
      ]
    },
    {
      "cell_type": "markdown",
      "source": [
        "### d. Visualización y tratamiento de datos faltantes o erróneos"
      ],
      "metadata": {
        "id": "WgeqYjhGUxFk"
      }
    },
    {
      "cell_type": "code",
      "source": [
        "# Identificar valores nulos\n",
        "print(\"Valores nulos del conjunto de los datos:\")\n",
        "print(data.isnull().sum())"
      ],
      "metadata": {
        "colab": {
          "base_uri": "https://localhost:8080/"
        },
        "id": "Nmh5dPONU8Pw",
        "outputId": "5ced0b01-6c22-43d8-c5e1-8c1d05e82a4c"
      },
      "execution_count": null,
      "outputs": [
        {
          "output_type": "stream",
          "name": "stdout",
          "text": [
            "Valores nulos del conjunto de los datos:\n",
            "sexo                                0\n",
            "edad                                0\n",
            "concentracion_hemoglobina           0\n",
            "temperatura_ambiente                0\n",
            "valor_acido_urico                   0\n",
            "valor_albumina                      0\n",
            "valor_colesterol_hdl                0\n",
            "valor_colesterol_ldl                0\n",
            "valor_colesterol_total              0\n",
            "valor_creatina                      0\n",
            "resultado_glucosa                   0\n",
            "valor_insulina                      0\n",
            "valor_trigliceridos                 0\n",
            "resultado_glucosa_promedio          0\n",
            "valor_hemoglobina_glucosilada       0\n",
            "valor_ferritina                     0\n",
            "valor_folato                        0\n",
            "valor_homocisteina                  0\n",
            "valor_proteinac_reactiva            0\n",
            "valor_transferrina                  0\n",
            "valor_vitamina_bdoce                0\n",
            "valor_vitamina_d                    0\n",
            "peso                                0\n",
            "estatura                            0\n",
            "medida_cintura                      0\n",
            "segundamedicion_peso                0\n",
            "segundamedicion_estatura            0\n",
            "distancia_rodilla_talon             0\n",
            "circunferencia_de_la_pantorrilla    0\n",
            "segundamedicion_cintura             0\n",
            "tension_arterial                    0\n",
            "sueno_horas                         0\n",
            "actividad_total                     0\n",
            "riesgo_hipertension                 0\n",
            "rango_edad                          0\n",
            "dtype: int64\n"
          ]
        }
      ]
    },
    {
      "cell_type": "markdown",
      "source": [
        "##### *Outliers*: Son valores en tus datos que son significativamente diferentes del resto. Son como los \"raritos\" de los números.\n",
        "##### *IQR (Rango Intercuartílico)*: Es una medida de la dispersión de la \"mayoría\" de los datos, enfocándose en el 50% central de los valores. Nos ayuda a entender qué tan extendidos están los datos típicos sin que los valores extremos (outliers) influyan demasiado.\n",
        "\n",
        "El IQR es una herramienta útil para ayudarnos a identificar esos \"outliers\" de una manera más sistemática, en lugar de simplemente mirarlos y decir \"ese número parece muy diferente\".\n",
        "\n"
      ],
      "metadata": {
        "id": "n9gwMgkSVpdt"
      }
    },
    {
      "cell_type": "code",
      "source": [
        "# Tratamiento de los \"outlier\" para la variable 'Edad' (ejemplo usando IQR)\n",
        "Q1 = data['edad'].quantile(0.25)\n",
        "Q3 = data['edad'].quantile(0.75)\n",
        "IQR = Q3 - Q1\n",
        "lower_bound = Q1 - 1.5 * IQR\n",
        "upper_bound = Q3 + 1.5 * IQR\n",
        "\n",
        "# Aplicar filtro para eliminar outliers\n",
        "data_filtered = data[(data['edad'] >= lower_bound) & (data['edad'] <= upper_bound)]\n",
        "print(\"Datos después de filtrar outliers en edad:\", data_filtered.shape)"
      ],
      "metadata": {
        "colab": {
          "base_uri": "https://localhost:8080/"
        },
        "id": "CVn-B_mIVu3j",
        "outputId": "ec8d372f-5121-4c5a-bcb2-6e6f813609a8"
      },
      "execution_count": null,
      "outputs": [
        {
          "output_type": "stream",
          "name": "stdout",
          "text": [
            "Datos después de filtrar outliers en edad: (4361, 35)\n"
          ]
        }
      ]
    }
  ]
}